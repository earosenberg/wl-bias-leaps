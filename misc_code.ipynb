{
 "cells": [
  {
   "cell_type": "code",
   "execution_count": null,
   "metadata": {},
   "outputs": [],
   "source": [
    "#Plot a bunch of galaxies\n",
    "fig,ax=plt.subplots(8,8,figsize=(10,10))\n",
    "for i,gal in enumerate(shearedGals.flatten()[:64]):\n",
    "    subax=ax[i/8,i%8]\n",
    "    subax.axes.axis('off')\n",
    "    im=gal.drawImage()\n",
    "    arr = im.array\n",
    "    subax.imshow(arr,interpolation=\"none\")\n",
    "#     except:\n",
    "#         print 'plotting failed for image %d' % i\n"
   ]
  },
  {
   "cell_type": "code",
   "execution_count": null,
   "metadata": {},
   "outputs": [],
   "source": []
  }
 ],
 "metadata": {
  "kernelspec": {
   "display_name": "Python 2",
   "language": "python",
   "name": "python2"
  },
  "language_info": {
   "codemirror_mode": {
    "name": "ipython",
    "version": 2
   },
   "file_extension": ".py",
   "mimetype": "text/x-python",
   "name": "python",
   "nbconvert_exporter": "python",
   "pygments_lexer": "ipython2",
   "version": "2.7.15"
  }
 },
 "nbformat": 4,
 "nbformat_minor": 2
}
