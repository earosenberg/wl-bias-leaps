{
 "cells": [
  {
   "cell_type": "code",
   "execution_count": null,
   "metadata": {},
   "outputs": [],
   "source": [
    "#Plot a bunch of galaxies\n",
    "fig,ax=plt.subplots(8,8,figsize=(10,10))\n",
    "for i,gal in enumerate(shearedGals.flatten()[:64]):\n",
    "    subax=ax[i/8,i%8]\n",
    "    subax.axes.axis('off')\n",
    "    im=gal.drawImage()\n",
    "    arr = im.array\n",
    "    subax.imshow(arr,interpolation=\"none\")\n",
    "#     except:\n",
    "#         print 'plotting failed for image %d' % i\n"
   ]
  },
  {
   "cell_type": "code",
   "execution_count": null,
   "metadata": {},
   "outputs": [],
   "source": [
    "def bootstrapShearOld(obs,weights,nBootstrap):\n",
    "    '''obs,weights: as above. nBootstrap: int, number of times to resample\n",
    "       Returns array of shape (nBootstrap,SNR,shear,(g1,g2)) giving samples of mean shear'''\n",
    "    shearSamples = []\n",
    "    for _ in xrange(nBootstrap):\n",
    "        indeces = np.random.randint(0,size,size)\n",
    "        obsSample = np.stack([obs[:,i] for i in indeces]).transpose(1,0,2,3,4)\n",
    "        weightSample = np.stack([weights[:,i] for i in indeces]).transpose(1,0,2,3,4)\n",
    "        shearSample = findMeanShear(obsSample,weightSample)\n",
    "        shearSamples.append(shearSample)\n",
    "    \n",
    "    shearSamples = np.stack(shearSamples)\n",
    "    return shearSamples\n"
   ]
  }
 ],
 "metadata": {
  "kernelspec": {
   "display_name": "Python 2",
   "language": "python",
   "name": "python2"
  },
  "language_info": {
   "codemirror_mode": {
    "name": "ipython",
    "version": 2
   },
   "file_extension": ".py",
   "mimetype": "text/x-python",
   "name": "python",
   "nbconvert_exporter": "python",
   "pygments_lexer": "ipython2",
   "version": "2.7.15"
  }
 },
 "nbformat": 4,
 "nbformat_minor": 2
}
