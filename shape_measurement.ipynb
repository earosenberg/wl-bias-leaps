{
 "cells": [
  {
   "cell_type": "markdown",
   "metadata": {},
   "source": [
    "Select a number of galaxies ($\\sim 500$ for testing, $\\gtrsim 50,000$ for good results) with intrinsic ellipticities taken from a uniform distribution of ellipticity ($\\epsilon$), distortion (e), or axis ratio (q), as given by an option. Also draw the phase uniformly from 0-pi (note that the orientation angle $\\phi$ is 0-$\\pi$ but in this space you need to cover the whole 0-$2\\pi$). Galaxy size is constant, gaussian profile.\n",
    "\n",
    "For each galaxy:\n",
    "    Apply an array of shears. Ex: g=\\[0+0i, 0.04+0i, -0.04+0i, 0+0.04i, 0-0.04i\\], but variable.\n",
    "    Apply Gaussian PSF and Gaussian noise. The same noise realisation for each shear value for a given galaxy, but different for each galaxy. \n",
    "    Rotate intrinsic shape by $n_{rot}$ times, where $n_{rot}$ is a variable. This gets treated as a separate galaxy with its own noise realisation.\n",
    "    \n",
    "Now we average: $\\hat g = \\langle \\epsilon \\rangle |_g$, converting from distortion to shear as appropriate. Only average galaxies with the same applied shear.\n",
    "Then we plot $\\hat g_1$ vs $g_1$, the observed shear vs real shear, and similarly for $g_2$. Remember to plot errors. Ideally there should be a straight line relation $(1+m_1)g_1 + c_1$ and similar. Fit with scipy curvefit to get parameters. Finally, repeat for different SNR, and plot SNR vs $m$. "
   ]
  },
  {
   "cell_type": "markdown",
   "metadata": {},
   "source": [
    "TODOs\n",
    "* Let galsim choose postage stamp size -- Done 02 July 2018\n",
    "\n",
    "* Stop averaging over g1, g2 -- Done 02 July 2018\n",
    "\n",
    "* Biasing by restricting shape measurement ellipticities to less than one.\n",
    "    Convert to chi type manually (distortion to q, q to ellipticity) w/ last equation before sec 2.2 of Mandelbaum great3\n",
    "\n",
    "* 1) get error on m. Use bootstrap: nlog^2(n)\n",
    "2) do weighted average over all SNR to find $\\hat g$, then find error on m like 1)\n",
    "Fix a noise level $\\sigma_N$, use flux values such that SNR is between 5 and 200. Arun will send me magnitude distribution\n",
    "\n",
    "* Make catalog including\n",
    "\n",
    "  Galaxy ID, Flux/magnitude, size, sersic n, intrinsic ellipticity\n",
    "  Read table, generate galaxy images. Output catalog:\n",
    "\n",
    "  Above plus measured ellipticity, measured size\n",
    "\n",
    "* For FFT Size error, see GSParams (search on galsim wiki) and increase minimum_fft_size, pass when you make Sersic profile\n",
    "\n",
    "* Plotting stuff, explained in plots below"
   ]
  },
  {
   "cell_type": "code",
   "execution_count": 15,
   "metadata": {},
   "outputs": [],
   "source": [
    "#Import libraries\n",
    "import numpy as np\n",
    "from matplotlib import pyplot as plt\n",
    "%matplotlib inline\n",
    "import galsim\n",
    "from scipy.optimize import curve_fit\n",
    "import time\n",
    "import cProfile\n",
    "import cPickle"
   ]
  },
  {
   "cell_type": "code",
   "execution_count": 16,
   "metadata": {},
   "outputs": [],
   "source": [
    "#Constants\n",
    "shape_distribution = ['ellipticity','distortion','axis_ratio']"
   ]
  },
  {
   "cell_type": "code",
   "execution_count": 17,
   "metadata": {},
   "outputs": [],
   "source": [
    "#Simulation options\n",
    "distribution_key = 0 #choose shape_distribution from above\n",
    "nrot = 2 #Number of images per galaxy ie 1 is no rotations, 2 is a 0 and 90 degree rot, etc\n",
    "ngal = 50#00#00 #Number of galaxies to simulate\n",
    "shearList = [(0,0),(0.04,0),(-0.04,0),(0,0.04),(0,-0.04)] #list of shears to apply\n",
    "\n",
    "#Parameters of the galaxy population\n",
    "gal_flux = 1.e6     #ADU -- Total galaxy flux\n",
    "disk_n = 0.5  #n for Sersic profile; 1/2 for Gaussian\n",
    "disk_re = 0.8 #half-light radius, as\n",
    "\n",
    "#Parameters of the PSF\n",
    "psf_sigma = 0.5 #as\n",
    "pixel_scale = 0.3 #as/px\n",
    "\n",
    "#Parameters of the noise\n",
    "snrArr = np.linspace(10,100,2) #array of desired SNRs for the Gaussian noise\n",
    "#snrArr = np.array([100])\n",
    "#Initialize the galaxy\n",
    "masterGal = galsim.Sersic(disk_n,half_light_radius=disk_re)\n",
    "masterGal=masterGal.withFlux(gal_flux)\n",
    "\n",
    "#Gaussian PSF\n",
    "psf = galsim.Gaussian(flux=1.,sigma=psf_sigma)\n",
    "image_psf=psf.drawImage(scale=pixel_scale)\n",
    "\n"
   ]
  },
  {
   "cell_type": "code",
   "execution_count": 18,
   "metadata": {},
   "outputs": [],
   "source": [
    "#Generate random numbers for intrinsic galaxy shapes\n",
    "shape_params = np.random.random((ngal,2))\n",
    "shape_parameter_type = shape_distribution[distribution_key]"
   ]
  },
  {
   "cell_type": "code",
   "execution_count": 19,
   "metadata": {},
   "outputs": [],
   "source": [
    "#Generate galaxies\n",
    "if shape_parameter_type == 'ellipticity':\n",
    "    galaxies = [masterGal.shear(g=mag, beta=ph*np.pi*galsim.radians) for mag,ph in shape_params]\n",
    "elif shape_parameter_type == 'distortion':\n",
    "    galaxies = [masterGal.shear(e=mag, beta=ph*np.pi*galsim.radians) for mag,ph in shape_params]\n",
    "elif shape_parameter_type == 'axis_ratio':\n",
    "    galaxies = [masterGal.shear(q=mag, beta=ph*np.pi*galsim.radians) for mag,ph in shape_params]\n",
    "else:\n",
    "    raise ValueError, 'shape_parameter_type \"%s\" not recognized. Use one of the allowed keywords.' %shape_parameter_type\n",
    "    \n",
    "#Generate rotated galaxies, add to galaxy list\n",
    "rotation_angle = [180./(nrot)*i for i in range(1,nrot)]\n",
    "rot_gals = [gal.rotate(angle*galsim.degrees) for angle in rotation_angle for gal in galaxies]\n",
    "galaxies += rot_gals"
   ]
  },
  {
   "cell_type": "code",
   "execution_count": 20,
   "metadata": {},
   "outputs": [],
   "source": [
    "shearedGals = np.array([[gal.shear(g1=shear[0],g2=shear[1]) for gal in galaxies] for shear in shearList])\n",
    "#shearedGals (numShears, numGals)"
   ]
  },
  {
   "cell_type": "code",
   "execution_count": 21,
   "metadata": {},
   "outputs": [],
   "source": [
    "#Measure shapes\n",
    "def measureShape(noise_im, image_psf):\n",
    "        results = galsim.hsm.EstimateShear(noise_im,image_psf,strict=False, guess_sig_gal=disk_re/pixel_scale, guess_sig_PSF=8.0, shear_est='REGAUSS')\n",
    "        e1obs,e2obs = results.observed_shape.e1,results.observed_shape.e2\n",
    "        e1corr,e2corr = results.corrected_e1,results.corrected_e2\n",
    "        #Biasing by restricting to less than one. Convert to chi type manually (distortion to q, q to ellipticity)\n",
    "        if results.correction_status==0 and np.sqrt(e1obs**2+e2obs**2)<=1 and np.sqrt(e1corr**2+e2corr**2)<=1:\n",
    "            obsShear = galsim.Shear(e1=e1obs, e2=e2obs)\n",
    "            corrShear = galsim.Shear(e1=e1corr, e2=e2corr)\n",
    "            return [obsShear.g1, obsShear.g2, corrShear.g1, corrShear.g2]\n",
    "            #return [results.observed_shape.e1,results.observed_shape.e2,\\\n",
    "            #     results.corrected_e1,results.corrected_e2]\n",
    "        #if shape estimation unsuccessful\n",
    "        else:\n",
    "            return [np.nan,np.nan,np.nan,np.nan]\n",
    "    \n",
    "def addGaussianNoiseSNR(im,clean_im,snr):\n",
    "    noise = galsim.GaussianNoise(sigma=1)\n",
    "    im.addNoiseSNR(noise, snr, preserve_flux=True)\n",
    "    noise_im = im - clean_im\n",
    "    return noise_im"
   ]
  },
  {
   "cell_type": "code",
   "execution_count": 22,
   "metadata": {},
   "outputs": [
    {
     "name": "stdout",
     "output_type": "stream",
     "text": [
      "lost > 1% flux: 0 / 50\n",
      "clock time:        3.4 \n",
      " cpu time:        3.4\n",
      "len(shearedGals) =  500\n"
     ]
    }
   ],
   "source": [
    "startC,startT = time.clock(), time.time()\n",
    "save_ims = True\n",
    "obs = []\n",
    "shearedGalT = shearedGals.transpose()\n",
    "lost_flux = []\n",
    "#Iterate over rows of the same galaxy w/ different shears\n",
    "noisyGals=[]\n",
    "for galRow in shearedGalT:\n",
    "    gal_ims = []\n",
    "    for i,gal in enumerate(galRow):\n",
    "        #Convolve w/ PSF and draw image\n",
    "        final = galsim.Convolve([gal, psf])\n",
    "        if i==0:\n",
    "            image = final.drawImage(scale=pixel_scale)\n",
    "        else:\n",
    "            image_shape = gal_ims[0].array.shape\n",
    "            im_final = galsim.ImageF(*image_shape)\n",
    "            image = final.drawImage(image=im_final, scale=pixel_scale)\n",
    "        if np.abs(np.sum(image.array)/gal_flux - 1) > 1e-2 and i<ngal:\n",
    "            lost_flux.append((np.sum(image.array)/gal_flux, i, shape_params[i]))\n",
    "        gal_ims.append(image)\n",
    "\n",
    "    obs_snr = []\n",
    "    #Loop through SNRs\n",
    "    for snr in snrArr:\n",
    "        #Add noise\n",
    "        first = gal_ims[0].copy()\n",
    "        noise_im = addGaussianNoiseSNR(first, gal_ims[0], snr)\n",
    "        noisyImRow = [im + noise_im for im in gal_ims]\n",
    "        if save_ims:\n",
    "            noisyGals.append(noisyImRow)\n",
    "        #Measure shape\n",
    "        obsRow = [measureShape(noisyIm, image_psf) for noisyIm in noisyImRow]\n",
    "        obs_snr.append(obsRow)\n",
    "\n",
    "    obs.append(obs_snr)\n",
    "\n",
    "obs = np.array(obs)\n",
    "obs = obs.transpose(1,0,2,3) #Get desired shape\n",
    "\n",
    "#Save file\n",
    "outfile2 = open('../shear_bias_outputs/obs.pkl','wb')\n",
    "cPickle.dump(obs,outfile2)\n",
    "outfile2.close()\n",
    "\n",
    "print 'lost > 1%% flux: %s / %s' % (str(len(lost_flux)),str(ngal))\n",
    "print 'clock time: %10.1f \\n cpu time: %10.1f' % (time.clock()-startC,time.time()-startT)\n",
    "print 'len(shearedGals) = ', shearedGals.size\n",
    "\n",
    "#cProfile.run('a()',sort=1)\n",
    "\n",
    "#obs shape:\n",
    "#(#SNRs, ngal*nrot, #shears, 4)\n",
    "#Axis 0: SNR\n",
    "#Axis 1: Galaxy #\n",
    "#Axis 2: Shear\n",
    "#Axis 3 shape measurement: [g1obs, g2obs, g1corr, g2corr] or [nan, nan, nan, nan] in case of failure"
   ]
  },
  {
   "cell_type": "code",
   "execution_count": 23,
   "metadata": {},
   "outputs": [
    {
     "name": "stdout",
     "output_type": "stream",
     "text": [
      "(2, 100, 5, 4)\n"
     ]
    }
   ],
   "source": [
    "print obs.shape"
   ]
  },
  {
   "cell_type": "code",
   "execution_count": 31,
   "metadata": {},
   "outputs": [
    {
     "name": "stdout",
     "output_type": "stream",
     "text": [
      "(2, 5, 4) (2, 5, 4)\n"
     ]
    }
   ],
   "source": [
    "print mean.shape, err.shape"
   ]
  },
  {
   "cell_type": "code",
   "execution_count": 47,
   "metadata": {},
   "outputs": [],
   "source": [
    "mean = np.nanmean(obs,axis=1)\n",
    "num = np.sum(np.logical_not(np.isnan(obs)),axis=1)\n",
    "err = np.nanstd(obs, axis=1) / np.sqrt(num)\n",
    "res = np.stack((mean,err)).transpose(3,1,2,0)\n",
    "#Shape: (measurements, SNRs, shears, (mean, err))"
   ]
  },
  {
   "cell_type": "code",
   "execution_count": 48,
   "metadata": {},
   "outputs": [
    {
     "data": {
      "text/plain": [
       "array([[-0.02142182,  0.03017878],\n",
       "       [ 0.0028367 ,  0.03093469],\n",
       "       [-0.0358171 ,  0.03141601],\n",
       "       [-0.01920966,  0.0301638 ],\n",
       "       [-0.02004738,  0.03139106]])"
      ]
     },
     "execution_count": 48,
     "metadata": {},
     "output_type": "execute_result"
    }
   ],
   "source": [
    "res[0,0]"
   ]
  },
  {
   "cell_type": "code",
   "execution_count": 65,
   "metadata": {},
   "outputs": [],
   "source": [
    "def lin(x,m,b):\n",
    "    return m*x+b\n",
    "\n",
    "def fitline(shear,data,err):\n",
    "    '''shearComponent is a 1d array of a component of true shear.\n",
    "       dataPlusErr is an array of shape (shear, (mean, err))'''\n",
    "    fitparam, fiterr = curve_fit(lin,shear,data,p0=[1,0],sigma=err)\n",
    "    return fitparam\n",
    "\n",
    "def getFitParameters(shear,fullRes,measurement):\n",
    "    '''\n",
    "    fullRes is an array of shape (measurements, SNRs, shears, (mean, err))\n",
    "    int measurement gives index of measurement you want: [g1obs, g2obs, g1corr, g2corr]\n",
    "    shear is a 1d array of a component of true shear'''\n",
    "    res = fullRes[measurement]\n",
    "    fitParamArr = []\n",
    "    #Iterate over SNRs\n",
    "    for subRes in res:\n",
    "        fitparams = fitline(shear,subRes[:,0],subRes[:,1]) \n",
    "        fitParamArr.append(fitparams)\n",
    "    return np.stack(fitParamArr) #Shape (#SNRs, 2 (slope, intercept of line))\n",
    "\n",
    "def plotFit(shear,res,snr_index,measurement,fitparams):\n",
    "    subRes = res[measurement,snr_index]\n",
    "    plt.errorbar(shear, subRes[:,0],yerr=subRes[:,1],fmt='.',capsize=4)\n",
    "    xx=np.linspace(min(shear),max(shear),len(shear)*100)\n",
    "    plt.plot(xx,lin(xx,*fitparams[snr_index]),'k')\n",
    "\n",
    "def fitAndPlot(shear,res,snr_index,measurement):\n",
    "    fitparams = getFitParameters(shear,res,measurement)\n",
    "    plotFit(shear,res,snr_index,measurement,fitparams)\n",
    "\n",
    "g1shear = [shear[0] for shear in shearList]\n",
    "g2shear = [shear[1] for shear in shearList]\n",
    "\n",
    "fp=getFitParameters(g1shear,res,2)"
   ]
  },
  {
   "cell_type": "code",
   "execution_count": 67,
   "metadata": {},
   "outputs": [
    {
     "data": {
      "image/png": "[encoded data removed]",
      "text/plain": [
       "<matplotlib.figure.Figure at 0x7f767935b550>"
      ]
     },
     "metadata": {},
     "output_type": "display_data"
    },
    {
     "data": {
      "image/png": "[encoded data removed]",
      "text/plain": [
       "<matplotlib.figure.Figure at 0x7f76791d3cd0>"
      ]
     },
     "metadata": {},
     "output_type": "display_data"
    }
   ],
   "source": [
    "plt.scatter(snrArr, 1-fp[:,0])\n",
    "plt.xlabel('SNR')\n",
    "plt.ylabel('1-m')\n",
    "plt.show()\n",
    "\n",
    "plt.scatter(snrArr, fp[:,1])\n",
    "plt.xlabel('SNR')\n",
    "plt.ylabel('b')\n",
    "plt.show()"
   ]
  },
  {
   "cell_type": "code",
   "execution_count": 68,
   "metadata": {},
   "outputs": [
    {
     "data": {
      "image/png": "[encoded data removed]",
      "text/plain": [
       "<matplotlib.figure.Figure at 0x7f7679569090>"
      ]
     },
     "metadata": {},
     "output_type": "display_data"
    }
   ],
   "source": [
    "fitAndPlot(g1shear,res,0,2)"
   ]
  },
  {
   "cell_type": "code",
   "execution_count": null,
   "metadata": {},
   "outputs": [],
   "source": [
    "#for error on m use bootstrap: nlog^2(n)"
   ]
  },
  {
   "cell_type": "code",
   "execution_count": 19,
   "metadata": {},
   "outputs": [
    {
     "data": {
      "image/png": "[encoded data removed]",
      "text/plain": [
       "<matplotlib.figure.Figure at 0x7fd46ab76f90>"
      ]
     },
     "metadata": {},
     "output_type": "display_data"
    }
   ],
   "source": [
    "#y axis: measured shear - true shear. x-axis true shear\n",
    "#Say for which SNR is this plot\n",
    "#specify SNR through function\n",
    "plotFit(g1shear,g1Res,0,1,fp)"
   ]
  },
  {
   "cell_type": "code",
   "execution_count": 72,
   "metadata": {},
   "outputs": [
    {
     "data": {
      "image/png": "[encoded data removed]",
      "text/plain": [
       "<matplotlib.figure.Figure at 0x7f03db5deb50>"
      ]
     },
     "metadata": {},
     "output_type": "display_data"
    }
   ],
   "source": [
    "#Plot a bunch of galaxies\n",
    "fig,ax=plt.subplots(8,8,figsize=(10,10))\n",
    "for i,gal in enumerate(shearedGals.flatten()[:64]):\n",
    "    subax=ax[i/8,i%8]\n",
    "    subax.axes.axis('off')\n",
    "    im=gal.drawImage()\n",
    "    arr = im.array\n",
    "    subax.imshow(arr,interpolation=\"none\")\n",
    "#     except:\n",
    "#         print 'plotting failed for image %d' % i\n"
   ]
  },
  {
   "cell_type": "code",
   "execution_count": 33,
   "metadata": {},
   "outputs": [
    {
     "data": {
      "text/plain": [
       "[<matplotlib.lines.Line2D at 0x7fd46a675e50>]"
      ]
     },
     "execution_count": 33,
     "metadata": {},
     "output_type": "execute_result"
    },
    {
     "data": {
      "image/png": "[encoded data removed]",
      "text/plain": [
       "<matplotlib.figure.Figure at 0x7fd46a5b5350>"
      ]
     },
     "metadata": {},
     "output_type": "display_data"
    }
   ],
   "source": [
    "xx = np.linspace(-10,10,21)\n",
    "noise = np.random.randn(len(xx))\n",
    "yy = 2*xx + 3 * 0.1*xx*xx\n",
    "plt.plot(xx,yy,'o')\n",
    "bestfit, errs = curve_fit(lin,xx,yy)\n",
    "plt.plot(xx,bestfit[0]*xx+bestfit[1],'k--')"
   ]
  },
  {
   "cell_type": "code",
   "execution_count": null,
   "metadata": {},
   "outputs": [],
   "source": []
  }
 ],
 "metadata": {
  "kernelspec": {
   "display_name": "Python 2",
   "language": "python",
   "name": "python2"
  },
  "language_info": {
   "codemirror_mode": {
    "name": "ipython",
    "version": 2
   },
   "file_extension": ".py",
   "mimetype": "text/x-python",
   "name": "python",
   "nbconvert_exporter": "python",
   "pygments_lexer": "ipython2",
   "version": "2.7.15"
  }
 },
 "nbformat": 4,
 "nbformat_minor": 2
}
