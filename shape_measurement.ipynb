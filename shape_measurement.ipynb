{
 "cells": [
  {
   "cell_type": "markdown",
   "metadata": {},
   "source": [
    "Select a number of galaxies ($\\sim 500$ for testing, $\\gtrsim 50,000$ for good results) with intrinsic ellipticities taken from a uniform distribution of ellipticity ($\\epsilon$), distortion (e), or axis ratio (q), as given by an option. Also draw the phase uniformly from 0-pi (note that the orientation angle $\\phi$ is 0-$\\pi$ but in this space you need to cover the whole 0-$2\\pi$). Galaxy size is constant, gaussian profile.\n",
    "\n",
    "For each galaxy:\n",
    "    Apply an array of shears. Ex: g=\\[0+0i, 0.04+0i, -0.04+0i, 0+0.04i, 0-0.04i\\], but variable.\n",
    "    Apply Gaussian PSF and Gaussian noise. The same noise realisation for each shear value for a given galaxy, but different for each galaxy. \n",
    "    Rotate intrinsic shape by $n_{rot}$ times, where $n_{rot}$ is a variable. This gets treated as a separate galaxy with its own noise realisation.\n",
    "    \n",
    "Now we average: $\\hat g = \\langle \\epsilon \\rangle |_g$, converting from distortion to shear as appropriate. Only average galaxies with the same applied shear.\n",
    "Then we plot $\\hat g_1$ vs $g_1$, the observed shear vs real shear, and similarly for $g_2$. Remember to plot errors. Ideally there should be a straight line relation $(1+m_1)g_1 + c_1$ and similar. Fit with scipy curvefit to get parameters. Finally, repeat for different SNR, and plot SNR vs $m$. "
   ]
  },
  {
   "cell_type": "markdown",
   "metadata": {},
   "source": [
    "TODOs\n",
    "Let galsim choose postage stamp size -- DONE 02 July 2018\n",
    "Stop averaging over g1, g2\n",
    "Biasing by restricting shape measurement ellipticities to less than one.\n",
    "    Convert to chi type manually (distortion to q, q to ellipticity) w/ last equation before sec 2.2 of Mandelbaum great3\n",
    "\n",
    "1) get error on m. Use bootstrap: nlog^2(n)\n",
    "2) do weighted average over all SNR to find $\\hat g$, then find error on m like 1)\n",
    "Fix a noise level $\\sigma_N$, use flux values such that SNR is between 5 and 200. Arun will send me magnitude distribution\n",
    "\n",
    "Make catalog including\n",
    "  Galaxy ID, Flux/magnitude, size, sersic n, intrinsic ellipticity\n",
    "Read table, generate galaxy images. Output catalog:\n",
    "  Above plus measured ellipticity, measured size\n",
    "\n",
    "For FFT Size error, see GSParams (search on galsim wiki) and increase minimum_fft_size, pass when you make Sersic profile"
   ]
  },
  {
   "cell_type": "code",
   "execution_count": 2,
   "metadata": {},
   "outputs": [],
   "source": [
    "#Import libraries\n",
    "import numpy as np\n",
    "from matplotlib import pyplot as plt\n",
    "%matplotlib inline\n",
    "import galsim\n",
    "from scipy.optimize import curve_fit\n",
    "import time\n",
    "import cProfile\n",
    "import cPickle"
   ]
  },
  {
   "cell_type": "code",
   "execution_count": 3,
   "metadata": {},
   "outputs": [],
   "source": [
    "#Constants\n",
    "shape_distribution = ['ellipticity','distortion','axis_ratio']"
   ]
  },
  {
   "cell_type": "code",
   "execution_count": 4,
   "metadata": {},
   "outputs": [],
   "source": [
    "#Simulation options\n",
    "distribution_key = 0 #choose shape_distribution from above\n",
    "nrot = 2 #Number of images per galaxy ie 1 is no rotations, 2 is a 0 and 90 degree rot, etc\n",
    "ngal = 50#00#00 #Number of galaxies to simulate\n",
    "shearList = [(0,0),(0.04,0),(-0.04,0),(0,0.04),(0,-0.04)] #list of shears to apply\n",
    "\n",
    "#Parameters of the galaxy population\n",
    "gal_flux = 1.e6     #ADU -- Total galaxy flux\n",
    "disk_n = 0.5  #n for Sersic profile; 1/2 for Gaussian\n",
    "disk_re = 0.8 #half-light radius, as\n",
    "\n",
    "#Parameters of the PSF\n",
    "psf_sigma = 0.5 #as\n",
    "pixel_scale = 0.3 #as/px\n",
    "\n",
    "#Parameters of the noise\n",
    "snrArr = np.linspace(10,100,2) #array of desired SNRs for the Gaussian noise\n",
    "#snrArr = np.array([100])\n",
    "#Initialize the galaxy\n",
    "masterGal = galsim.Sersic(disk_n,half_light_radius=disk_re)\n",
    "masterGal=masterGal.withFlux(gal_flux)\n",
    "\n",
    "#Gaussian PSF\n",
    "psf = galsim.Gaussian(flux=1.,sigma=psf_sigma)\n",
    "image_psf=psf.drawImage(scale=pixel_scale)\n",
    "\n"
   ]
  },
  {
   "cell_type": "code",
   "execution_count": 5,
   "metadata": {},
   "outputs": [],
   "source": [
    "#Generate random numbers for intrinsic galaxy shapes\n",
    "shape_params = np.random.random((ngal,2))\n",
    "shape_parameter_type = shape_distribution[distribution_key]"
   ]
  },
  {
   "cell_type": "code",
   "execution_count": 6,
   "metadata": {},
   "outputs": [],
   "source": [
    "#Generate galaxies\n",
    "if shape_parameter_type == 'ellipticity':\n",
    "    galaxies = [masterGal.shear(g=mag, beta=ph*np.pi*galsim.radians) for mag,ph in shape_params]\n",
    "elif shape_parameter_type == 'distortion':\n",
    "    galaxies = [masterGal.shear(e=mag, beta=ph*np.pi*galsim.radians) for mag,ph in shape_params]\n",
    "elif shape_parameter_type == 'axis_ratio':\n",
    "    galaxies = [masterGal.shear(q=mag, beta=ph*np.pi*galsim.radians) for mag,ph in shape_params]\n",
    "else:\n",
    "    raise ValueError, 'shape_parameter_type \"%s\" not recognized. Use one of the allowed keywords.' %shape_parameter_type\n",
    "    \n",
    "#Generate rotated galaxies, add to galaxy list\n",
    "rotation_angle = [180./(nrot)*i for i in range(1,nrot)]\n",
    "rot_gals = [gal.rotate(angle*galsim.degrees) for angle in rotation_angle for gal in galaxies]\n",
    "galaxies += rot_gals"
   ]
  },
  {
   "cell_type": "code",
   "execution_count": 7,
   "metadata": {},
   "outputs": [],
   "source": [
    "shearedGals = np.array([[gal.shear(g1=shear[0],g2=shear[1]) for gal in galaxies] for shear in shearList])\n",
    "#shearedGals (numShears, numGals)"
   ]
  },
  {
   "cell_type": "code",
   "execution_count": 8,
   "metadata": {},
   "outputs": [],
   "source": [
    "#Measure shapes\n",
    "def measureShape(noise_im, image_psf):\n",
    "        results = galsim.hsm.EstimateShear(noise_im,image_psf,strict=False, guess_sig_gal=disk_re/pixel_scale, guess_sig_PSF=8.0, shear_est='REGAUSS')\n",
    "        e1obs,e2obs = results.observed_shape.e1,results.observed_shape.e2\n",
    "        e1corr,e2corr = results.corrected_e1,results.corrected_e2\n",
    "        #Biasing by restricting to less than one. Convert to chi type manually (distortion to q, q to ellipticity)\n",
    "        if results.correction_status==0 and np.sqrt(e1obs**2+e2obs**2)<=1 and np.sqrt(e1corr**2+e2corr**2)<=1:\n",
    "            obsShear = galsim.Shear(e1=e1obs, e2=e2obs)\n",
    "            corrShear = galsim.Shear(e1=e1corr, e2=e2corr)\n",
    "            return [obsShear.g1, obsShear.g2, corrShear.g1, corrShear.g2]\n",
    "            #return [results.observed_shape.e1,results.observed_shape.e2,\\\n",
    "            #     results.corrected_e1,results.corrected_e2]\n",
    "        #if shape estimation unsuccessful\n",
    "        else:\n",
    "            return [np.nan,np.nan,np.nan,np.nan]\n",
    "    \n",
    "def addGaussianNoiseSNR(im,clean_im,snr):\n",
    "    noise = galsim.GaussianNoise(sigma=1)\n",
    "    im.addNoiseSNR(noise, snr, preserve_flux=True)\n",
    "    noise_im = im - clean_im\n",
    "    return noise_im"
   ]
  },
  {
   "cell_type": "code",
   "execution_count": 14,
   "metadata": {},
   "outputs": [
    {
     "name": "stdout",
     "output_type": "stream",
     "text": [
      "lost > 1% flux: 0 / 50\n",
      "clock time:        3.1 \n",
      " cpu time:        3.1\n",
      "len(shearedGals) =  500\n"
     ]
    }
   ],
   "source": [
    "startC,startT = time.clock(), time.time()\n",
    "save_ims = True\n",
    "obs = []\n",
    "shearedGalT = shearedGals.transpose()\n",
    "lost_flux = []\n",
    "#Iterate over rows of the same galaxy w/ different shears\n",
    "noisyGals=[]\n",
    "for galRow in shearedGalT:\n",
    "    gal_ims = []\n",
    "    for i,gal in enumerate(galRow):\n",
    "        #Convolve w/ PSF and draw image\n",
    "        final = galsim.Convolve([gal, psf])\n",
    "        if i==0:\n",
    "            image = final.drawImage(scale=pixel_scale)\n",
    "        else:\n",
    "            image_shape = gal_ims[0].array.shape\n",
    "            im_final = galsim.ImageF(*image_shape)\n",
    "            image = final.drawImage(image=im_final, scale=pixel_scale)\n",
    "        if np.abs(np.sum(image.array)/gal_flux - 1) > 1e-2 and i<ngal:\n",
    "            lost_flux.append((np.sum(image.array)/gal_flux, i, shape_params[i]))\n",
    "        gal_ims.append(image)\n",
    "\n",
    "    obs_snr = []\n",
    "    #Loop through SNRs\n",
    "    for snr in snrArr:\n",
    "        #Add noise\n",
    "        first = gal_ims[0].copy()\n",
    "        noise_im = addGaussianNoiseSNR(first, gal_ims[0], snr)\n",
    "        noisyImRow = [im + noise_im for im in gal_ims]\n",
    "        if save_ims:\n",
    "            noisyGals.append(noisyImRow)\n",
    "        #Measure shape\n",
    "        obsRow = [measureShape(noisyIm, image_psf) for noisyIm in noisyImRow]\n",
    "        obs_snr.append(obsRow)\n",
    "\n",
    "    obs.append(obs_snr)\n",
    "\n",
    "obs = np.array(obs)\n",
    "obs = obs.transpose(1,0,2,3) #Get desired shape\n",
    "\n",
    "#Save file\n",
    "outfile2 = open('../shear_bias_outputs/obs.pkl','wb')\n",
    "cPickle.dump(obs,outfile2)\n",
    "outfile2.close()\n",
    "\n",
    "print 'lost > 1%% flux: %s / %s' % (str(len(lost_flux)),str(ngal))\n",
    "print 'clock time: %10.1f \\n cpu time: %10.1f' % (time.clock()-startC,time.time()-startT)\n",
    "print 'len(shearedGals) = ', shearedGals.size\n",
    "\n",
    "#cProfile.run('a()',sort=1)\n",
    "\n",
    "#obs shape:\n",
    "#(#SNRs, ngal*nrot, #shears, 4)\n",
    "#Axis 0: SNR\n",
    "#Axis 1: Galaxy #\n",
    "#Axis 2: Shear\n",
    "#Axis 3 shape measurement: [g1obs, g2obs, g1corr, g2corr] or [nan, nan, nan, nan] in case of failure"
   ]
  },
  {
   "cell_type": "code",
   "execution_count": 10,
   "metadata": {},
   "outputs": [],
   "source": [
    "#Make dictionaries to map g1 and g2 to the indeces in shearList and obs\n",
    "g1Dict = {}\n",
    "g2Dict = {}\n",
    "for i,shear in enumerate(shearList):\n",
    "    g1,g2 = shear\n",
    "    g1keys = g1Dict.keys()\n",
    "    if g1 in g1keys:\n",
    "        g1Dict[g1].append(i)\n",
    "    else:\n",
    "        g1Dict[g1] = [i]\n",
    "    g2keys = g2Dict.keys()\n",
    "    if g2 in g2keys:\n",
    "        g2Dict[g2].append(i)\n",
    "    else:\n",
    "        g2Dict[g2] = [i]\n"
   ]
  },
  {
   "cell_type": "code",
   "execution_count": 11,
   "metadata": {},
   "outputs": [],
   "source": [
    "#Calculate mean / std for each value of g1, g2\n",
    "\n",
    "#Put different shears in front of array so we can iterate over them easier\n",
    "shearfrontObs = obs.transpose((2,0,1,3))\n",
    "g1shear,g2shear=g1Dict.keys(),g2Dict.keys()\n",
    "shearRes = []\n",
    "for dct,keys in [(g1Dict,g1shear),(g2Dict,g2shear)]:\n",
    "    subRes = []\n",
    "    for key in keys:\n",
    "        indeces = dct[key]\n",
    "        subArr = [shearfrontObs[i] for i in indeces]\n",
    "        #Combine subArrays with same g1 (g2) into a single array\n",
    "        subArr = np.concatenate(subArr,axis=1)\n",
    "        #Calculate mean and std of that subArray\n",
    "        num = np.sum(np.logical_not(np.isnan(subArr)),axis=1) #Number of non-nan entries\n",
    "        subMean = np.nanmean(subArr, axis=1)\n",
    "        subErr = np.nanstd(subArr,axis=1) / np.sqrt(num)\n",
    "        subRes.append([subMean,subErr])\n",
    "    shearRes.append(subRes)\n",
    "\n",
    "#Initial Shape:\n",
    "#(2 (g1,g2), #intrinsic shear values, 2 (mean,err), #SNRs, 4 (shape measurement (g1obs, g2obs, g1corr, g2corr) )\n",
    "g1Res,g2Res = np.array(shearRes[0]).transpose(2,3,0,1), np.array(shearRes[1]).transpose(2,3,0,1)\n",
    "g1Res = g1Res[:,0::2,:,:] #Remove e2 measurements from g1\n",
    "g2Res = g2Res[:,1::2,:,:] #Remove e1 measurements from g2\n",
    "#Shape: (#SNRs, 2 (shape measurement (gobs, gcorr)), #intrinsic shear values, 2 (mean, err))"
   ]
  },
  {
   "cell_type": "code",
   "execution_count": 12,
   "metadata": {},
   "outputs": [],
   "source": [
    "def lin(x,m,b):\n",
    "    return m*x+b\n",
    "\n",
    "def fitline(shear,res):\n",
    "    fitparam, fiterr = curve_fit(lin,shear,res[:,0],p0=[1,0],sigma=res[:,1])\n",
    "    return fitparam\n",
    "\n",
    "def getFitParameters(shear,Res,corr):\n",
    "    '''corr=0,1 gives observed (0) or corrected (1) estimates'''\n",
    "    fitParamArr = []\n",
    "    for subRes in Res:\n",
    "        subRes = subRes[corr]\n",
    "        fitparams = fitline(shear,subRes)\n",
    "        fitParamArr.append(fitparams)\n",
    "    return np.stack(fitParamArr) #Shape (#SNRs, 2 (slope, intercept of line))\n",
    "\n",
    "def plotFit(shear,Res,snr_index,corr,fitparams):\n",
    "    res = Res[snr_index,corr]\n",
    "    plt.errorbar(shear, res[:,0],yerr=res[:,1],fmt='.',capsize=4)\n",
    "    xx=np.linspace(min(shear),max(shear),len(shear)*100)\n",
    "    plt.plot(xx,lin(xx,*fitparams[snr_index]),'k')\n",
    "    \n",
    "i = 1 #corrected; set to 0 for observed\n",
    "fp=getFitParameters(g1shear,g1Res,i)"
   ]
  },
  {
   "cell_type": "code",
   "execution_count": 13,
   "metadata": {},
   "outputs": [
    {
     "data": {
      "image/png": "[encoded data removed]",
      "text/plain": [
       "<matplotlib.figure.Figure at 0x7f767b6fd510>"
      ]
     },
     "metadata": {},
     "output_type": "display_data"
    },
    {
     "data": {
      "image/png": "[encoded data removed]",
      "text/plain": [
       "<matplotlib.figure.Figure at 0x7f767950af90>"
      ]
     },
     "metadata": {},
     "output_type": "display_data"
    }
   ],
   "source": [
    "plt.scatter(snrArr, 1-fp[:,0])\n",
    "plt.xlabel('SNR')\n",
    "plt.ylabel('1-m')\n",
    "plt.show()\n",
    "\n",
    "plt.scatter(snrArr, fp[:,1])\n",
    "plt.xlabel('SNR')\n",
    "plt.ylabel('b')\n",
    "plt.show()"
   ]
  },
  {
   "cell_type": "code",
   "execution_count": 20,
   "metadata": {},
   "outputs": [
    {
     "ename": "ValueError",
     "evalue": "operands could not be broadcast together with shapes (20,2,3,2) (3,) ",
     "output_type": "error",
     "traceback": [
      "\u001b[0;31m---------------------------------------------------------------------------\u001b[0m",
      "\u001b[0;31mValueError\u001b[0m                                Traceback (most recent call last)",
      "\u001b[0;32m<ipython-input-20-48ebd72d430b>\u001b[0m in \u001b[0;36m<module>\u001b[0;34m()\u001b[0m\n\u001b[0;32m----> 1\u001b[0;31m \u001b[0mplotFit\u001b[0m\u001b[0;34m(\u001b[0m\u001b[0mg1Res\u001b[0m\u001b[0;34m-\u001b[0m\u001b[0mg1shear\u001b[0m\u001b[0;34m,\u001b[0m\u001b[0mg1Res\u001b[0m\u001b[0;34m,\u001b[0m\u001b[0;36m0\u001b[0m\u001b[0;34m,\u001b[0m\u001b[0;36m1\u001b[0m\u001b[0;34m,\u001b[0m\u001b[0mfp\u001b[0m\u001b[0;34m)\u001b[0m\u001b[0;34m\u001b[0m\u001b[0m\n\u001b[0m",
      "\u001b[0;31mValueError\u001b[0m: operands could not be broadcast together with shapes (20,2,3,2) (3,) "
     ]
    }
   ],
   "source": [
    "plotFit(g1shear,g1Res,0,1,fp)"
   ]
  },
  {
   "cell_type": "code",
   "execution_count": null,
   "metadata": {},
   "outputs": [],
   "source": [
    "#for error on m use bootstrap: nlog^2(n)"
   ]
  },
  {
   "cell_type": "code",
   "execution_count": 19,
   "metadata": {},
   "outputs": [
    {
     "data": {
      "image/png": "[encoded data removed]",
      "text/plain": [
       "<matplotlib.figure.Figure at 0x7fd46ab76f90>"
      ]
     },
     "metadata": {},
     "output_type": "display_data"
    }
   ],
   "source": [
    "#y axis: measured shear - true shear. x-axis true shear\n",
    "#Say for which SNR is this plot\n",
    "#specify SNR through function\n",
    "plotFit(g1shear,g1Res,0,1,fp)"
   ]
  },
  {
   "cell_type": "code",
   "execution_count": 72,
   "metadata": {},
   "outputs": [
    {
     "data": {
      "image/png": "[encoded data removed]",
      "text/plain": [
       "<matplotlib.figure.Figure at 0x7f03db5deb50>"
      ]
     },
     "metadata": {},
     "output_type": "display_data"
    }
   ],
   "source": [
    "#Plot a bunch of galaxies\n",
    "fig,ax=plt.subplots(8,8,figsize=(10,10))\n",
    "for i,gal in enumerate(shearedGals.flatten()[:64]):\n",
    "    subax=ax[i/8,i%8]\n",
    "    subax.axes.axis('off')\n",
    "    im=gal.drawImage()\n",
    "    arr = im.array\n",
    "    subax.imshow(arr,interpolation=\"none\")\n",
    "#     except:\n",
    "#         print 'plotting failed for image %d' % i\n"
   ]
  },
  {
   "cell_type": "code",
   "execution_count": 65,
   "metadata": {},
   "outputs": [],
   "source": [
    "# err = np.nanstd(obs,axis=1) / np.sqrt(np.sum(successMask,axis=1))\n",
    "# res = np.nanmean(obs,axis=1)\n",
    "#Shapes (#SNRs, #shears, #measured_values (4))"
   ]
  },
  {
   "cell_type": "code",
   "execution_count": null,
   "metadata": {},
   "outputs": [],
   "source": [
    "# rot_gals=np.array(rot_gals)\n",
    "# rot_gals=rot_gals.reshape(rot_gals.size/len(galaxies),len(galaxies))\n",
    "# combo=np.array(galaxies)\n",
    "# for row in rot_gals:\n",
    "#     combo = combo + row\n"
   ]
  },
  {
   "cell_type": "code",
   "execution_count": 33,
   "metadata": {},
   "outputs": [
    {
     "data": {
      "text/plain": [
       "[<matplotlib.lines.Line2D at 0x7fd46a675e50>]"
      ]
     },
     "execution_count": 33,
     "metadata": {},
     "output_type": "execute_result"
    },
    {
     "data": {
      "image/png": "[encoded data removed]",
      "text/plain": [
       "<matplotlib.figure.Figure at 0x7fd46a5b5350>"
      ]
     },
     "metadata": {},
     "output_type": "display_data"
    }
   ],
   "source": [
    "xx = np.linspace(-10,10,21)\n",
    "noise = np.random.randn(len(xx))\n",
    "yy = 2*xx + 3 * 0.1*xx*xx\n",
    "plt.plot(xx,yy,'o')\n",
    "bestfit, errs = curve_fit(lin,xx,yy)\n",
    "plt.plot(xx,bestfit[0]*xx+bestfit[1],'k--')"
   ]
  },
  {
   "cell_type": "code",
   "execution_count": null,
   "metadata": {},
   "outputs": [],
   "source": []
  }
 ],
 "metadata": {
  "kernelspec": {
   "display_name": "Python 2",
   "language": "python",
   "name": "python2"
  },
  "language_info": {
   "codemirror_mode": {
    "name": "ipython",
    "version": 2
   },
   "file_extension": ".py",
   "mimetype": "text/x-python",
   "name": "python",
   "nbconvert_exporter": "python",
   "pygments_lexer": "ipython2",
   "version": "2.7.15"
  }
 },
 "nbformat": 4,
 "nbformat_minor": 2
}
