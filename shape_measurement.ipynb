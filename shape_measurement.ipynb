{
 "cells": [
  {
   "cell_type": "markdown",
   "metadata": {},
   "source": [
    "Select a number of galaxies ($\\sim 500$ for testing, $\\gtrsim 50,000$ for good results) with intrinsic ellipticities taken from a uniform distribution of ellipticity ($\\epsilon$), distortion (e), or axis ratio (q), as given by an option. Also draw the phase uniformly from 0-pi (note that the orientation angle $\\phi$ is 0-$\\pi$ but in this space you need to cover the whole 0-$2\\pi$). Galaxy size is constant, gaussian profile.\n",
    "\n",
    "For each galaxy:\n",
    "    Apply an array of shears. Ex: g=\\[0+0i, 0.04+0i, -0.04+0i, 0+0.04i, 0-0.04i\\], but variable.\n",
    "    Apply Gaussian PSF and Gaussian noise. The same noise realisation for each shear value for a given galaxy, but different for each galaxy. \n",
    "    Rotate intrinsic shape by $n_{rot}$ times, where $n_{rot}$ is a variable. This gets treated as a separate galaxy with its own noise realisation.\n",
    "    \n",
    "Now we average: $\\hat g = \\langle \\epsilon \\rangle |_g$, converting from distortion to shear as appropriate. Only average galaxies with the same applied shear.\n",
    "Then we plot $\\hat g_1$ vs $g_1$, the observed shear vs real shear, and similarly for $g_2$. Remember to plot errors. Ideally there should be a straight line relation $(1+m_1)g_1 + c_1$ and similar. Fit with scipy curvefit to get parameters. Finally, repeat for different SNR, and plot SNR vs $m$. "
   ]
  },
  {
   "cell_type": "markdown",
   "metadata": {},
   "source": [
    "* For FFT Size error, see GSParams (search on galsim wiki) and increase minimum_fft_size, pass when you make Sersic profile\n"
   ]
  },
  {
   "cell_type": "code",
   "execution_count": 1,
   "metadata": {},
   "outputs": [],
   "source": [
    "#Import libraries\n",
    "import numpy as np\n",
    "from matplotlib import pyplot as plt\n",
    "%matplotlib inline\n",
    "import galsim\n",
    "from scipy.optimize import curve_fit\n",
    "import time\n",
    "import cProfile\n",
    "import cPickle"
   ]
  },
  {
   "cell_type": "code",
   "execution_count": 2,
   "metadata": {},
   "outputs": [],
   "source": [
    "#Constants\n",
    "shape_distribution = ['ellipticity','distortion','axis_ratio']"
   ]
  },
  {
   "cell_type": "code",
   "execution_count": 3,
   "metadata": {},
   "outputs": [],
   "source": [
    "#Simulation options\n",
    "distribution_key = 0 #choose shape_distribution from above\n",
    "matchRotNans = True #All rotated images of a galaxy are nan if one of them is nan, if True\n",
    "nrot = 3 #Number of images per galaxy ie 1 is no rotations, 2 is a 0 and 90 degree rot, etc\n",
    "ngal = 2 #Number of galaxies to simulate\n",
    "shearList = [(0,0),(0.04,0)]#,(-0.04,0),(0,0.04),(0,-0.04)] #list of shears to apply\n",
    "g1shear = [shear[0] for shear in shearList]\n",
    "g2shear = [shear[1] for shear in shearList]\n",
    "\n",
    "#Parameters of the galaxy population\n",
    "gal_flux = 1.e6     #ADU -- Total galaxy flux\n",
    "disk_n = 0.5  #n for Sersic profile; 1/2 for Gaussian\n",
    "disk_re = 0.8 #half-light radius, as\n",
    "\n",
    "#Parameters of the PSF\n",
    "psf_sigma = 0.5 #as\n",
    "pixel_scale = 0.3 #as/px\n",
    "\n",
    "#Parameters of the noise\n",
    "snrArr = np.linspace(100,200,2) #array of desired SNRs for the Gaussian noise\n",
    "#snrArr = np.array([100])\n",
    "\n",
    "#Gaussian PSF\n",
    "psf = galsim.Gaussian(flux=1.,sigma=psf_sigma)\n",
    "image_psf=psf.drawImage(scale=pixel_scale)\n",
    "\n"
   ]
  },
  {
   "cell_type": "code",
   "execution_count": 4,
   "metadata": {},
   "outputs": [],
   "source": [
    "#Generate random numbers for intrinsic galaxy shapes\n",
    "shape_params = np.random.random((ngal,2))\n",
    "shape_parameter_type = shape_distribution[distribution_key]"
   ]
  },
  {
   "cell_type": "code",
   "execution_count": 5,
   "metadata": {},
   "outputs": [],
   "source": [
    "#Make catalog\n",
    "#Galaxy ID, Flux/magnitude, size, sersic n, intrinsic ellipticity\n",
    "\n",
    "galId = range(ngal)\n",
    "flux = [gal_flux]*ngal\n",
    "size = [disk_re]*ngal\n",
    "sersic = [disk_n]*ngal\n",
    "shape1 = list(shape_params[:,0])\n",
    "shape2 = list(shape_params[:,1] * np.pi)\n",
    "\n",
    "input_cat = np.stack((galId,flux,size,sersic,shape1,shape2)).transpose()\n",
    "header = 'galId flux size sersic shape1 shape2 nrot'\n",
    "np.savetxt('../shear_bias_outputs/input_cat.txt',input_cat,delimiter=' ',header=header)"
   ]
  },
  {
   "cell_type": "code",
   "execution_count": 6,
   "metadata": {},
   "outputs": [],
   "source": [
    "def intrinsic_shear(galaxy,shape_parameter_type,mag,ph):\n",
    "    if shape_parameter_type == 'ellipticity':\n",
    "        newGal = galaxy.shear(g=mag, beta=ph*galsim.radians)\n",
    "    elif shape_parameter_type == 'distortion':\n",
    "        newGal = galaxy.shear(e=mag, beta=ph*galsim.radians)\n",
    "    elif shape_parameter_type == 'axis_ratio':\n",
    "        newGal = galaxy.shear(q=mag, beta=ph*galsim.radians)\n",
    "    else:\n",
    "        raise ValueError, 'shape_parameter_type \"%s\" not recognized. Use one of the allowed keywords.' %shape_parameter_type\n",
    "    return newGal"
   ]
  },
  {
   "cell_type": "code",
   "execution_count": 7,
   "metadata": {},
   "outputs": [],
   "source": [
    "#load catalog\n",
    "cat = np.loadtxt('../shear_bias_outputs/input_cat.txt', skiprows=1)\n",
    "flux = cat[:,1]\n",
    "disk_reArr, disk_nArr = cat[:,2],cat[:,3]\n",
    "magArr,phArr = cat[:,4],cat[:,5]\n",
    "\n",
    "#Generate galaxies\n",
    "galaxies = [galsim.Sersic(disk_n,half_light_radius=disk_re) for (disk_re,disk_n) in zip(disk_reArr,disk_nArr)]\n",
    "galaxies = [gal.withFlux(gal_flux) for gal,gal_flux in zip(galaxies,flux)]\n",
    "galaxies = [intrinsic_shear(galaxy,shape_parameter_type,mag,ph) for galaxy,mag,ph in zip(galaxies,magArr,phArr)]\n",
    "\n",
    "#Generate rotated galaxies, add to galaxy list\n",
    "rotation_angle = [180./(nrot)*i for i in range(1,nrot)]\n",
    "rot_gals = [gal.rotate(angle*galsim.degrees) for angle in rotation_angle for gal in galaxies]\n",
    "galaxies += rot_gals\n",
    "\n",
    "# rotation_angle = [180./(nrot)*i for i in range(0,nrot)]\n",
    "# rot_gals = [[gal.rotate(angle*galsim.degrees) for angle in rotation_angle] for gal in galaxies]"
   ]
  },
  {
   "cell_type": "code",
   "execution_count": 8,
   "metadata": {},
   "outputs": [],
   "source": [
    "#shear galaxies\n",
    "shearedGals = np.array([[gal.shear(g1=shear[0],g2=shear[1]) for gal in galaxies] for shear in shearList])\n",
    "#shearedGals (numShears, numGals)\n",
    "\n",
    "# shearedGals = np.array([[[gal.shear(g1=shear[0],g2=shear[1]) for gal in subgal] for subgal in rot_gals] for shear in shearList])\n"
   ]
  },
  {
   "cell_type": "code",
   "execution_count": 319,
   "metadata": {},
   "outputs": [],
   "source": [
    "#Measure shapes\n",
    "def measureShape(noise_im, image_psf):\n",
    "        results = galsim.hsm.EstimateShear(noise_im,image_psf,strict=False,\\\n",
    "                                           guess_sig_gal=disk_re/pixel_scale, guess_sig_PSF=8.0, shear_est='REGAUSS')\n",
    "        if results.correction_status==0:\n",
    "            return [results.corrected_e1, results.corrected_e2]\n",
    "        #if shape estimation unsuccessful\n",
    "        else:\n",
    "            return [np.nan,np.nan]\n",
    "    \n",
    "def addGaussianNoiseSNR(im,clean_im,snr):\n",
    "    noise = galsim.GaussianNoise(sigma=1)\n",
    "    im.addNoiseSNR(noise, snr, preserve_flux=True)\n",
    "    noise_im = im - clean_im\n",
    "    return noise_im"
   ]
  },
  {
   "cell_type": "code",
   "execution_count": 320,
   "metadata": {},
   "outputs": [
    {
     "name": "stdout",
     "output_type": "stream",
     "text": [
      "(2, 2, 3, 2, 2)\n",
      "lost > 1% flux: 0 / 2\n",
      "clock time:        0.1 \n",
      " cpu time:        0.1\n",
      "len(shearedGals) =  12\n"
     ]
    }
   ],
   "source": [
    "startC,startT = time.clock(), time.time()\n",
    "save_ims = False #CAREFUL making this True; it will expend all of your memory very rapidly\n",
    "obs = []\n",
    "shearedGalT = shearedGals.transpose()\n",
    "lost_flux = []\n",
    "#Iterate over rows of the same galaxy w/ different shears\n",
    "noisyGals=[]\n",
    "for galRow in shearedGalT:\n",
    "    gal_ims = []\n",
    "    for i,gal in enumerate(galRow):\n",
    "        #Convolve w/ PSF and draw image\n",
    "        final = galsim.Convolve([gal, psf])\n",
    "        if i==0:\n",
    "            image = final.drawImage(scale=pixel_scale)\n",
    "        else:\n",
    "            image_shape = gal_ims[0].array.shape\n",
    "            im_final = galsim.ImageF(*image_shape)\n",
    "            image = final.drawImage(image=im_final, scale=pixel_scale)\n",
    "        if np.abs(np.sum(image.array)/gal_flux - 1) > 1e-2 and i<ngal:\n",
    "            lost_flux.append((np.sum(image.array)/gal_flux, i, shape_params[i]))\n",
    "        gal_ims.append(image)\n",
    "\n",
    "    obs_snr = []\n",
    "    #Loop through SNRs\n",
    "    for snr in snrArr:\n",
    "        #Add noise\n",
    "        first = gal_ims[0].copy()\n",
    "        noise_im = addGaussianNoiseSNR(first, gal_ims[0], snr)\n",
    "        noisyImRow = [im + noise_im for im in gal_ims]\n",
    "        if save_ims:\n",
    "            noisyGals.append(noisyImRow)\n",
    "        #Measure shape\n",
    "        obsRow = [measureShape(noisyIm, image_psf) for noisyIm in noisyImRow]\n",
    "        obs_snr.append(obsRow)\n",
    "\n",
    "    obs.append(obs_snr)\n",
    "\n",
    "obs = np.array(obs)\n",
    "obs=np.stack([obs[ngal*i:ngal*(i+1)] for i in range(nrot)]) #Put rotated versions in new axis\n",
    "#nrot, ngal, snr, shear, meas\n",
    "obs = obs.transpose(2,1,0,3,4) #Get desired shape\n",
    "print obs.shape\n",
    "#Save file\n",
    "outfile2 = open('../shear_bias_outputs/obs.pkl','wb')\n",
    "cPickle.dump(obs,outfile2)\n",
    "outfile2.close()\n",
    "\n",
    "print 'lost > 1%% flux: %s / %s' % (str(len(lost_flux)),str(ngal))\n",
    "print 'clock time: %10.1f \\n cpu time: %10.1f' % (time.clock()-startC,time.time()-startT)\n",
    "print 'len(shearedGals) = ', shearedGals.size\n",
    "\n",
    "#cProfile.run('a()',sort=1)\n",
    "\n",
    "#obs shape:\n",
    "#(#SNRs, ngal, nrot, #shears, 2)\n",
    "#Axis 0: SNR\n",
    "#Axis 1: Galaxy #\n",
    "#Axis 2: Rotated versions\n",
    "#Axis 3: Shear\n",
    "#Axis 4: shape measurement: [e1corr, e2corr] or [nan, nan] in case of failure\n"
   ]
  },
  {
   "cell_type": "code",
   "execution_count": 321,
   "metadata": {},
   "outputs": [],
   "source": [
    "def matchRotatedNans(obs):\n",
    "    '''If any of the rotations of a single galaxy are nan, make all rotations nan'''\n",
    "    tempObs = obs.transpose(0,1,3,2,4) #(SNR, ngal, shear, nrot, (e1, e2))\n",
    "    for i in range(tempObs.shape[0]):\n",
    "        for j in range(tempObs.shape[1]):\n",
    "            for k in range(tempObs.shape[2]):\n",
    "                if np.any(np.isnan(tempObs[i,j,k])):\n",
    "                    for m in range(tempObs.shape[3]):\n",
    "                        tempObs[i,j,k,m] = [np.nan,np.nan]\n",
    "    obs = tempObs.transpose(0,1,3,2,4) \n",
    "    return obs\n",
    "\n",
    "if matchRotNans:\n",
    "    obs = matchRotatedNans(obs)"
   ]
  },
  {
   "cell_type": "code",
   "execution_count": 322,
   "metadata": {},
   "outputs": [],
   "source": [
    "def nanav(array, weights, axis=None):\n",
    "    '''Take weighted average of an array, ignoring nan values\n",
    "       array: ndarray object. weights: array of same size, giving weights.\n",
    "       axis: int giving axis to average along\n",
    "       returns: array averaged along given axis, ignoring nans'''\n",
    "    ma = np.ma.MaskedArray(array, mask=np.isnan(array))\n",
    "    av = np.ma.average(ma, weights=weights, axis=axis)\n",
    "    if isinstance(av, np.ndarray):\n",
    "        if np.any(av.mask):\n",
    "            raise ValueError, 'Average should not contain np.nan'\n",
    "        else:\n",
    "            return av.data\n",
    "    else:\n",
    "        return av\n",
    "\n",
    "def findMeanShear(obs,weights):\n",
    "    '''obs: array of measured distortions, shape (SNR, Galaxy#, nrot, Shear, (e1,e2))\n",
    "       weights: array of weights\n",
    "       Returns estimate of mean shear, shape (SNR, Shear, (g1,g2))'''\n",
    "    distortionMean = nanav(obs,weights, axis=(1,2))\n",
    "    distSqMean = np.nanmean(obs[:,:,:,:,0]**2 + obs[:,:,:,:,1]**2)/2.\n",
    "    mean = distortionMean / (2 * (1-distSqMean)) #Formula for approximate shear\n",
    "    return mean\n",
    "\n",
    "#Keep rotated pairs together when bootstrapping\n",
    "def bootstrapShear(obs,weights,nBootstrap):\n",
    "    '''obs,weights: as above. nBootstrap: int, number of times to resample\n",
    "       Returns array of shape (nBootstrap,SNR,shear,(g1,g2)) giving samples of mean shear'''\n",
    "    shearSamples = []\n",
    "    for _ in xrange(nBootstrap):\n",
    "        indeces = np.random.randint(0,size,size)\n",
    "        obsSample = np.stack([obs[:,i] for i in indeces]).transpose(1,0,2,3,4)\n",
    "        weightSample = np.stack([weights[:,i] for i in indeces]).transpose(1,0,2,3,4)\n",
    "        shearSample = findMeanShear(obsSample,weightSample)\n",
    "        shearSamples.append(shearSample)\n",
    "    \n",
    "    shearSamples = np.stack(shearSamples)\n",
    "    return shearSamples\n"
   ]
  },
  {
   "cell_type": "code",
   "execution_count": 248,
   "metadata": {},
   "outputs": [],
   "source": [
    "#Use a system of weighting instead of placing each galaxy\n",
    "# n galaxies to resample: n numbers 0-1\n",
    "#     uniform binning create a histogram, n bins.\n",
    "#     # counts in each bin become resampling weights \n",
    "    \n",
    "# use same seed for bootstrapping "
   ]
  },
  {
   "cell_type": "code",
   "execution_count": 323,
   "metadata": {},
   "outputs": [],
   "source": [
    "#define weights\n",
    "weights = np.ones_like(obs)\n",
    "\n",
    "#Find weighted g1 and g2 from e1, e2\n",
    "meanShear= findMeanShear(obs,weights)\n",
    "#Use bootstrap method to resample and derive an error on the shear values\n",
    "size = obs.shape[1]\n",
    "nBootstrap = int(size)#*np.log(size)**2)\n",
    "shearSamples = bootstrapShear(obs,weights,nBootstrap)\n",
    "errShear = np.std(shearSamples,axis=0)\n",
    "\n",
    "#Combine mean and err into a single array\n",
    "res = np.stack((meanShear,errShear)).transpose(3,1,2,0)\n",
    "\n",
    "#res Shape: (measurements, SNRs, shears, (mean, err))\n",
    "#plt.hist(shearSamples[:,0,0,0],bins=11)"
   ]
  },
  {
   "cell_type": "code",
   "execution_count": 324,
   "metadata": {},
   "outputs": [
    {
     "name": "stdout",
     "output_type": "stream",
     "text": [
      "2\n"
     ]
    }
   ],
   "source": [
    "print nBootstrap"
   ]
  },
  {
   "cell_type": "code",
   "execution_count": 325,
   "metadata": {},
   "outputs": [
    {
     "name": "stdout",
     "output_type": "stream",
     "text": [
      "[(0, 0), (0.04, 0)]\n",
      "[[ 0.00270379 -0.00446075]\n",
      " [ 0.0421249  -0.00461379]]\n"
     ]
    }
   ],
   "source": [
    "print shearList\n",
    "print meanShear[-1]"
   ]
  },
  {
   "cell_type": "code",
   "execution_count": 326,
   "metadata": {},
   "outputs": [
    {
     "data": {
      "text/plain": [
       "(array([1., 0., 0., 0., 0., 0., 0., 0., 0., 0., 0., 0., 0., 0., 0., 0., 0.,\n",
       "        0., 0., 1.]),\n",
       " array([0.01259703, 0.01291452, 0.01323201, 0.0135495 , 0.01386698,\n",
       "        0.01418447, 0.01450196, 0.01481945, 0.01513693, 0.01545442,\n",
       "        0.01577191, 0.0160894 , 0.01640688, 0.01672437, 0.01704186,\n",
       "        0.01735935, 0.01767683, 0.01799432, 0.01831181, 0.0186293 ,\n",
       "        0.01894678]),\n",
       " <a list of 20 Patch objects>)"
      ]
     },
     "execution_count": 326,
     "metadata": {},
     "output_type": "execute_result"
    },
    {
     "data": {
      "image/png": "[encoded data removed]",
      "text/plain": [
       "<matplotlib.figure.Figure at 0x7faa5075fbd0>"
      ]
     },
     "metadata": {},
     "output_type": "display_data"
    }
   ],
   "source": [
    "plt.hist(shearSamples[:,0,0,0],bins=20)"
   ]
  },
  {
   "cell_type": "code",
   "execution_count": 327,
   "metadata": {},
   "outputs": [],
   "source": [
    "def lin(x,m,b):\n",
    "    return m*x+b\n",
    "\n",
    "def fitline(shear,data,err):\n",
    "    '''shearComponent is a 1d array of a component of true shear.\n",
    "       dataPlusErr is an array of shape (shear, (mean, err))'''\n",
    "    fitparam, fiterr = curve_fit(lin,shear,data,p0=[1,0],sigma=err)\n",
    "    return fitparam\n",
    "\n",
    "def getFitParameters(shearList,fullRes):\n",
    "    '''\n",
    "    fullRes is an array of shape (measurements, SNRs, shears, (mean, err))\n",
    "    shearList is a list of 2-tupes of true shear\n",
    "    '''\n",
    "    #Iterate over measurements\n",
    "    g1shear = [shear[0] for shear in shearList]\n",
    "    g2shear = [shear[1] for shear in shearList]\n",
    "    shear=(g1shear,g2shear)\n",
    "    fullParamArr=[]\n",
    "    for i,res in enumerate(fullRes):\n",
    "        fitParamArr = []\n",
    "        #Iterate over SNRs\n",
    "        for subRes in res:\n",
    "            fitparams = fitline(shear[i],subRes[:,0],subRes[:,1]) \n",
    "            fitParamArr.append(fitparams)\n",
    "        fullParamArr.append(fitParamArr)\n",
    "    return np.array(fullParamArr) #Shape (2 (g1, g2), #SNRs, 2 (slope, intercept of line))"
   ]
  },
  {
   "cell_type": "code",
   "execution_count": 328,
   "metadata": {},
   "outputs": [
    {
     "name": "stderr",
     "output_type": "stream",
     "text": [
      "/software/local/lib64/python2.7/site-packages/scipy/optimize/minpack.py:785: OptimizeWarning: Covariance of the parameters could not be estimated\n",
      "  category=OptimizeWarning)\n"
     ]
    }
   ],
   "source": [
    "def bootstrapM(shearSamples,shearList):\n",
    "    '''shearSamples as above. shearList is a list of 2-tuples of true shear\n",
    "       Return array of shape (nBootstrap, 2 (g1,g2), SNRs)'''\n",
    "    mSamples=[]\n",
    "    sigma = np.ones_like(shearSamples)[0] #Use 1 for all errors (same as no error)\n",
    "    for sample in shearSamples:\n",
    "        sampleRes = np.stack([sample,sigma]).transpose(3,1,2,0)\n",
    "        gparams= getFitParameters(shearList,sampleRes)       \n",
    "        mSamples.append(gparams[:,:,0])\n",
    "    mSamples=np.stack(mSamples)\n",
    "    return mSamples\n",
    "\n",
    "mSamples = bootstrapM(shearSamples,shearList) #shape: numSamples, 2 (g1,g2), SNRs\n",
    "mStd = np.std(mSamples,axis=0) / np.sqrt(nBootstrap)\n",
    "#mStd shape: ((g1,g2), SNRs)\n",
    "\n",
    "mMean = getFitParameters(shearList,res)[:,:,0]"
   ]
  },
  {
   "cell_type": "code",
   "execution_count": 329,
   "metadata": {},
   "outputs": [
    {
     "name": "stdout",
     "output_type": "stream",
     "text": [
      "(2, 2, 2)\n"
     ]
    },
    {
     "data": {
      "text/plain": [
       "<matplotlib.legend.Legend at 0x7faa4e6dcdd0>"
      ]
     },
     "execution_count": 329,
     "metadata": {},
     "output_type": "execute_result"
    },
    {
     "data": {
      "image/png": "[encoded data removed]",
      "text/plain": [
       "<matplotlib.figure.Figure at 0x7faa4e6dce10>"
      ]
     },
     "metadata": {},
     "output_type": "display_data"
    }
   ],
   "source": [
    "print mSamples.shape\n",
    "for i in range(len(snrArr)):\n",
    "    plt.hist(mSamples[:,0,i],bins=20,histtype='step',label=str(snrArr[i]))\n",
    "plt.legend()\n",
    "    "
   ]
  },
  {
   "cell_type": "code",
   "execution_count": null,
   "metadata": {},
   "outputs": [],
   "source": [
    "#get mean from bootstrap, compare to true mean\n",
    "#keep option to kill all rotations if one of them fails"
   ]
  },
  {
   "cell_type": "code",
   "execution_count": 259,
   "metadata": {},
   "outputs": [
    {
     "data": {
      "image/png": "[encoded data removed]",
      "text/plain": [
       "<matplotlib.figure.Figure at 0x7faa4e94f4d0>"
      ]
     },
     "metadata": {},
     "output_type": "display_data"
    },
    {
     "data": {
      "image/png": "[encoded data removed]",
      "text/plain": [
       "<matplotlib.figure.Figure at 0x7faa4e72fe10>"
      ]
     },
     "metadata": {},
     "output_type": "display_data"
    }
   ],
   "source": [
    "plt.errorbar(snrArr,mMean[0]-1,yerr=mStd[0]/np.sqrt(nBootstrap),fmt='o',capsize=4)\n",
    "plt.xlabel('SNR')\n",
    "plt.ylabel('1-m1')\n",
    "plt.show()\n",
    "plt.xlabel('SNR')\n",
    "plt.ylabel('1-m2')\n",
    "plt.errorbar(snrArr,mMean[1]-1,yerr=mStd[1]/np.sqrt(nBootstrap),fmt='o',capsize=4)\n",
    "plt.show()"
   ]
  },
  {
   "cell_type": "code",
   "execution_count": 255,
   "metadata": {},
   "outputs": [],
   "source": [
    "def getFitParameters(shearList,fullRes):\n",
    "    '''\n",
    "    fullRes is an array of shape (measurements, SNRs, shears, (mean, err))\n",
    "    shearList is a list of 2-tupes of true shear\n",
    "    '''\n",
    "    #Iterate over measurements\n",
    "    g1shear = [shear[0] for shear in shearList]\n",
    "    g2shear = [shear[1] for shear in shearList]\n",
    "    shear=(g1shear,g2shear)\n",
    "    fullParamArr=[]\n",
    "    for i,res in enumerate(fullRes):\n",
    "        fitParamArr = []\n",
    "        #Iterate over SNRs\n",
    "        for subRes in res:\n",
    "            fitparams = fitline(shear[i],subRes[:,0],subRes[:,1]) \n",
    "            fitParamArr.append(fitparams)\n",
    "        fullParamArr.append(fitParamArr)\n",
    "    return np.array(fullParamArr) #Shape (2 (g1, g2), #SNRs, 2 (slope, intercept of line))\n",
    "\n",
    "def shearComp(shearList,i):\n",
    "    return [shear[i] for shear in shearList]\n",
    "\n",
    "def plotFit(shear,res,snr_index,measurement,fitparams):\n",
    "    subRes = res[measurement,snr_index]\n",
    "    plt.errorbar(shear, subRes[:,0]-shear,yerr=subRes[:,1],fmt='.',capsize=4)\n",
    "    xx=np.linspace(min(shear),max(shear),len(shear)*100)\n",
    "    plt.plot(xx,lin(xx,*fitparams[snr_index])-xx,'k')\n",
    "    plt.title('SNR: '+str(snrArr[snr_index]))\n",
    "    plt.xlabel('True g'+str(measurement+1))\n",
    "    plt.ylabel('Measured g' + str(measurement+1) + ' - true g'+str(measurement+1))\n",
    "\n",
    "def fitAndPlot(shearList,res,snr_index,measurement):\n",
    "    fitparams = getFitParameters(shearList,res)[measurement]\n",
    "    plotFit(shearComp(shearList,measurement),res,snr_index,measurement,fitparams)\n",
    "    \n",
    "#y axis: measured shear - true shear. x-axis true shear\n",
    "#Say for which SNR is this plot\n",
    "#specify SNR through function"
   ]
  },
  {
   "cell_type": "code",
   "execution_count": 256,
   "metadata": {},
   "outputs": [
    {
     "name": "stdout",
     "output_type": "stream",
     "text": [
      "[100. 125. 150. 175. 200.]\n"
     ]
    },
    {
     "data": {
      "image/png": "[encoded data removed]",
      "text/plain": [
       "<matplotlib.figure.Figure at 0x7faa4e9f7cd0>"
      ]
     },
     "metadata": {},
     "output_type": "display_data"
    }
   ],
   "source": [
    "#y axis: measured shear - true shear. x-axis true shear\n",
    "#Say for which SNR is this plot\n",
    "#specify SNR through function\n",
    "fitAndPlot(shearList,res,0,1)\n",
    "print snrArr"
   ]
  },
  {
   "cell_type": "markdown",
   "metadata": {},
   "source": []
  }
 ],
 "metadata": {
  "kernelspec": {
   "display_name": "Python 2",
   "language": "python",
   "name": "python2"
  },
  "language_info": {
   "codemirror_mode": {
    "name": "ipython",
    "version": 2
   },
   "file_extension": ".py",
   "mimetype": "text/x-python",
   "name": "python",
   "nbconvert_exporter": "python",
   "pygments_lexer": "ipython2",
   "version": "2.7.15"
  }
 },
 "nbformat": 4,
 "nbformat_minor": 2
}
