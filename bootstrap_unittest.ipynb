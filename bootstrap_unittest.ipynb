{
 "cells": [
  {
   "cell_type": "code",
   "execution_count": 1,
   "metadata": {},
   "outputs": [],
   "source": [
    "import numpy as np\n",
    "import galFuncs\n",
    "% matplotlib inline\n",
    "from matplotlib import pyplot as plt\n",
    "import time"
   ]
  },
  {
   "cell_type": "code",
   "execution_count": 2,
   "metadata": {},
   "outputs": [],
   "source": [
    "Rshape = (2,2,2,1000,25,9)\n",
    "recgShape = (2,2,1000,25,9)"
   ]
  },
  {
   "cell_type": "code",
   "execution_count": 3,
   "metadata": {},
   "outputs": [],
   "source": [
    "center=0.0\n",
    "std = 0.1\n",
    "R = np.random.normal(center, std, size=np.product(Rshape)).reshape(Rshape)\n",
    "rc = np.random.normal(center, std, size=np.product(recgShape)).reshape(recgShape)"
   ]
  },
  {
   "cell_type": "code",
   "execution_count": 4,
   "metadata": {},
   "outputs": [
    {
     "name": "stdout",
     "output_type": "stream",
     "text": [
      "(2, 2, 2, 1000, 25, 9)\n"
     ]
    }
   ],
   "source": [
    "print R.shape"
   ]
  },
  {
   "cell_type": "code",
   "execution_count": 5,
   "metadata": {},
   "outputs": [
    {
     "name": "stdout",
     "output_type": "stream",
     "text": [
      "25.31\n"
     ]
    }
   ],
   "source": [
    "def bootstrap(R, recg0, axisListRRand, axisListRMean, axisListRecg0Rand, axisListRecg0Mean, nBootstrap, noBootstrap=False):\n",
    "    shape = np.array(R.shape)[axisListRRand]\n",
    "    if noBootstrap:\n",
    "        return np.array([np.nanmean(R, axis=tuple(axisListRMean))]), np.array([np.nanmean(recg0, axis=tuple(axisListRecg0Mean))])\n",
    "    else:\n",
    "        weights = galFuncs.getWeightArr(shape, nBootstrap)\n",
    "        RBoot = galFuncs.bootstrapArr(R, axisListRRand, axisListRMean, weights)\n",
    "        tmsBoot = galFuncs.bootstrapArr(recg0, axisListRecg0Rand, axisListRecg0Mean, weights)\n",
    "        return RBoot, tmsBoot\n",
    "\n",
    "axisListRRand, axisListRMean = [3,4], [2,3,4]\n",
    "axisListRecg0Rand, axisListRecg0Mean = [2,3], [1,2,3]\n",
    "\n",
    "nBootstrap=500\n",
    "st = time.clock()\n",
    "\n",
    "RBoot,tmsBoot = bootstrap(R, rc, axisListRRand, axisListRMean, axisListRecg0Rand, axisListRecg0Mean, nBootstrap, False)\n",
    "RBoot, tmsBoot = RBoot.transpose(0,3,1,2), tmsBoot.transpose(0,2,1) # (nBootstrap, nrot, 2x2), (nBootstrap, nrot, g1_g2)\n",
    "print time.clock() - st\n",
    "rec_cosmoshear_boot = np.einsum('...jk,...k->...j', np.linalg.inv(RBoot), tmsBoot)\n",
    "rec_cosmoshear, rec_cosmoshear_std = np.mean(rec_cosmoshear_boot, axis=0), np.std(rec_cosmoshear_boot, axis=0)\n",
    "true_mean_shape, tmsstd = np.mean(tmsBoot, axis=0), np.std(tmsBoot, axis=0)\n",
    "\n",
    "cshear_err = rec_cosmoshear_std \n",
    "tms_err = tmsstd \n"
   ]
  },
  {
   "cell_type": "code",
   "execution_count": null,
   "metadata": {},
   "outputs": [],
   "source": []
  },
  {
   "cell_type": "markdown",
   "metadata": {},
   "source": [
    "* Have R (2x2, 0/90, ngal, nx^2, npixelsize)\n",
    "* Get mean R from your bootstrapped sample -> (nBootstrap, npixelsize, 2x2)\n",
    "* find recovered g\n",
    "* Take mean and standard dev of recovered g's"
   ]
  },
  {
   "cell_type": "code",
   "execution_count": 6,
   "metadata": {},
   "outputs": [
    {
     "name": "stdout",
     "output_type": "stream",
     "text": [
      "(2, 2, 2, 1000, 25, 9)\n",
      "(500, 9, 2, 2)\n",
      "(500, 9, 2)\n"
     ]
    }
   ],
   "source": [
    "print R.shape\n",
    "print RBoot.shape\n",
    "print tmsBoot.shape\n"
   ]
  },
  {
   "cell_type": "code",
   "execution_count": 7,
   "metadata": {},
   "outputs": [
    {
     "name": "stdout",
     "output_type": "stream",
     "text": [
      "[ 14.5653883  -27.84915153]\n",
      "[[ 20586.06189041  -8693.95783328]\n",
      " [-39874.04826694  15397.53706764]] [ 0.00060118 -0.00025183]\n"
     ]
    }
   ],
   "source": [
    "print rec_cosmoshear_boot[0,0]\n",
    "print np.linalg.inv(RBoot[0,0]), tmsBoot[0,0]"
   ]
  },
  {
   "cell_type": "code",
   "execution_count": 8,
   "metadata": {},
   "outputs": [
    {
     "name": "stdout",
     "output_type": "stream",
     "text": [
      "[[-1129.42403644 -1078.99403121]\n",
      " [  -91.1082706   1285.93919527]]\n"
     ]
    }
   ],
   "source": [
    "print np.linalg.inv(RBoot[5,2])"
   ]
  },
  {
   "cell_type": "code",
   "execution_count": 9,
   "metadata": {},
   "outputs": [],
   "source": [
    "# Each entry in RBoot is the average of 2*1000*25 entries"
   ]
  },
  {
   "cell_type": "code",
   "execution_count": 10,
   "metadata": {},
   "outputs": [
    {
     "name": "stdout",
     "output_type": "stream",
     "text": [
      "-4.791584400225978e-06 0.0\n",
      "[[[0.00043778 0.00044641]\n",
      "  [0.00044923 0.00043017]]\n",
      "\n",
      " [[0.00046394 0.00044101]\n",
      "  [0.00043978 0.00042395]]\n",
      "\n",
      " [[0.00047126 0.00045331]\n",
      "  [0.00046588 0.00045422]]\n",
      "\n",
      " [[0.00044002 0.0004578 ]\n",
      "  [0.00044032 0.00045841]]\n",
      "\n",
      " [[0.00049361 0.00045725]\n",
      "  [0.00042446 0.00044667]]\n",
      "\n",
      " [[0.00044621 0.00045169]\n",
      "  [0.0004495  0.00045309]]\n",
      "\n",
      " [[0.00044588 0.00043339]\n",
      "  [0.00042855 0.00045421]]\n",
      "\n",
      " [[0.00046085 0.00040935]\n",
      "  [0.00046019 0.00046047]]\n",
      "\n",
      " [[0.00045022 0.00044602]\n",
      "  [0.00044227 0.0004562 ]]] 0.00044721359549995795\n"
     ]
    }
   ],
   "source": [
    "print RBoot.mean(), center\n",
    "print RBoot.std(axis=0), std / np.sqrt(2*1000*25)\n"
   ]
  },
  {
   "cell_type": "markdown",
   "metadata": {},
   "source": [
    "## Unit test 2\n",
    "### Negative sign gaussian ellipticity"
   ]
  },
  {
   "cell_type": "code",
   "execution_count": 11,
   "metadata": {},
   "outputs": [
    {
     "name": "stdout",
     "output_type": "stream",
     "text": [
      "(2, 2, 1000, 25, 9)\n"
     ]
    }
   ],
   "source": [
    "rc[:,1,...] = -rc[:,0,...]\n",
    "print rc.shape"
   ]
  },
  {
   "cell_type": "code",
   "execution_count": 13,
   "metadata": {},
   "outputs": [],
   "source": [
    "RBoot,tmsBoot = bootstrap(R, rc, axisListRRand, axisListRMean, axisListRecg0Rand, axisListRecg0Mean, nBootstrap, False)\n",
    "RBoot, tmsBoot = RBoot.transpose(0,3,1,2), tmsBoot.transpose(0,2,1) # (nBootstrap, nrot, 2x2), (nBootstrap, nrot, g1_g2)\n",
    "rec_cosmoshear_boot = np.einsum('...jk,...k->...j', np.linalg.inv(RBoot), tmsBoot)\n",
    "rec_cosmoshear, rec_cosmoshear_std = np.mean(rec_cosmoshear_boot, axis=0), np.std(rec_cosmoshear_boot, axis=0)\n",
    "true_mean_shape, tmsstd = np.mean(tmsBoot, axis=0), np.std(tmsBoot, axis=0)\n"
   ]
  },
  {
   "cell_type": "markdown",
   "metadata": {},
   "source": [
    "rcshape: (x, rot, ngal, nx2, pixelsize)\n",
    "bootstrap: pick random galaxies and subpixelshifts but *keep rots together* then average, leave x and ps out"
   ]
  },
  {
   "cell_type": "code",
   "execution_count": 16,
   "metadata": {},
   "outputs": [
    {
     "name": "stdout",
     "output_type": "stream",
     "text": [
      "[[-9.51310236e-16  7.84577624e-15]\n",
      " [-3.14909083e-15  3.67764175e-15]\n",
      " [-2.63946552e-16  1.01928228e-14]\n",
      " [-2.13945480e-13  3.70441859e-13]\n",
      " [-5.62508429e-15  1.66962339e-15]\n",
      " [-3.30091573e-15 -2.23076399e-15]\n",
      " [ 1.34341249e-15 -1.64712022e-16]\n",
      " [ 1.22606672e-14  1.22679822e-15]\n",
      " [ 8.02073458e-16  2.33982898e-15]] [[1.33418746e-13 1.13972194e-13]\n",
      " [1.16625551e-13 2.27715435e-13]\n",
      " [7.13627671e-14 2.02189828e-13]\n",
      " [4.90102595e-12 8.17350668e-12]\n",
      " [1.02015175e-13 3.77104813e-14]\n",
      " [7.71011793e-14 6.62472020e-14]\n",
      " [6.18933858e-14 5.02534951e-14]\n",
      " [2.35595051e-13 1.39890754e-13]\n",
      " [5.64909540e-14 4.08216308e-14]]\n"
     ]
    }
   ],
   "source": []
  },
  {
   "cell_type": "code",
   "execution_count": null,
   "metadata": {},
   "outputs": [],
   "source": []
  }
 ],
 "metadata": {
  "kernelspec": {
   "display_name": "Python 2",
   "language": "python",
   "name": "python2"
  },
  "language_info": {
   "codemirror_mode": {
    "name": "ipython",
    "version": 2
   },
   "file_extension": ".py",
   "mimetype": "text/x-python",
   "name": "python",
   "nbconvert_exporter": "python",
   "pygments_lexer": "ipython2",
   "version": "2.7.5"
  }
 },
 "nbformat": 4,
 "nbformat_minor": 2
}
