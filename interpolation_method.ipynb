{
 "cells": [
  {
   "cell_type": "code",
   "execution_count": 1,
   "metadata": {},
   "outputs": [],
   "source": [
    "#Import libraries\n",
    "import numpy as np\n",
    "from matplotlib import pyplot as plt\n",
    "%matplotlib inline\n",
    "import galsim\n",
    "import time\n",
    "#from galsim.gsparams import GSParams\n",
    "from matplotlib.colors import LogNorm\n",
    "import matplotlib.cm as cm\n",
    "import shape_measurement as sm\n",
    "import time"
   ]
  },
  {
   "cell_type": "code",
   "execution_count": 94,
   "metadata": {},
   "outputs": [],
   "source": [
    "gsparams = galsim.GSParams(kvalue_accuracy=1.e-5,maximum_fft_size=2048*10,maxk_threshold=1.e-5)\n",
    "pixel_scale = 0.1 #as/px\n",
    "lamda = 550 #nm\n",
    "diameter = 1.2 #m\n",
    "psf_oversample = 5.\n",
    "gal_oversample = 1.\n",
    "interpolant = 'lanczos200'\n",
    "# Make epsf, draw epsf image, interpolated image\n",
    "airy = galsim.Airy(lam=lamda, diam=diameter, scale_unit=galsim.arcsec, obscuration=0.3, gsparams=gsparams)\n",
    "pixel = galsim.Pixel(pixel_scale,gsparams=gsparams)\n",
    "psf = galsim.Convolve(airy, pixel)\n",
    "given_psf = psf.drawImage(scale=pixel_scale/psf_oversample,method='no_pixel') #Draw oversampled psf image\n",
    "psf_galsample = psf.drawImage(scale=pixel_scale/gal_oversample,method='no_pixel') #Draw at galaxy scale for shape measurement\n",
    "psfii = galsim.InterpolatedImage(given_psf, gsparams=gsparams,x_interpolant=interpolant)\n"
   ]
  },
  {
   "cell_type": "code",
   "execution_count": 95,
   "metadata": {},
   "outputs": [],
   "source": [
    "#Load galaxy catalog and select galaxies\n",
    "cc = galsim.COSMOSCatalog(dir='/disks/shear15/KiDS/ImSim/pipeline/data/COSMOS_25.2_training_sample/',use_real=False)\n",
    "sersicfit = cc.param_cat['sersicfit']\n",
    "hlr, sn, q, phi = [sersicfit[:,i] for i in (1,2,3,7)]\n",
    "\n",
    "small100I = np.where(np.logical_and(hlr*np.sqrt(q)>2.5, sn>=0.5))[0][400:405] #Large galaxies, reasonable sersic n\n",
    "gals = sm.makeGalaxy(cc,small100I, chromatic=False, gsparams=gsparams,trunc_factor=0.0)\n",
    "intrinsicAngles = phi[small100I]\n",
    "thetas = [0]\n",
    "rotGalVec = np.vectorize(sm.rotGal)\n",
    "rotGals = np.stack([rotGalVec(gals,intrinsicAngles,targetTheta) for targetTheta in thetas]) #(nrot, ngals)\n",
    "\n",
    "def gete(q,b):\n",
    "    shear = galsim.shear.Shear(q=q, beta=b*galsim.radians)\n",
    "    return np.array([shear.e1, shear.e2])\n",
    "q0 = q[small100I]\n",
    "QQ, THTH = np.meshgrid(q0, thetas)\n",
    "shearVec = np.vectorize(gete, otypes=[object])\n",
    "trueShears = shearVec(QQ, THTH)\n",
    "trueShears = np.stack([np.stack(x) for x in trueShears]) #(nrot, ngals, (e1, e2))"
   ]
  },
  {
   "cell_type": "code",
   "execution_count": 96,
   "metadata": {},
   "outputs": [
    {
     "name": "stdout",
     "output_type": "stream",
     "text": [
      "[0.26438861 0.        ]\n"
     ]
    }
   ],
   "source": [
    "i=2\n",
    "gal=rotGals[0,i]\n",
    "trueEll = np.array(trueShears[0,i])\n",
    "print trueEll"
   ]
  },
  {
   "cell_type": "markdown",
   "metadata": {},
   "source": [
    "# Timing Comparison"
   ]
  },
  {
   "cell_type": "code",
   "execution_count": 14,
   "metadata": {},
   "outputs": [
    {
     "name": "stdout",
     "output_type": "stream",
     "text": [
      "10 loops, best of 3: 38.5 ms per loop\n"
     ]
    }
   ],
   "source": [
    "%timeit res=sm.measureShapeReconv(gal,psf,psf_galsample,pixel_scale/gal_oversample, psfii, gsparams, interpolant) #both lanczos7"
   ]
  },
  {
   "cell_type": "code",
   "execution_count": 9,
   "metadata": {},
   "outputs": [
    {
     "name": "stdout",
     "output_type": "stream",
     "text": [
      "1 loop, best of 3: 29.2 s per loop\n"
     ]
    }
   ],
   "source": [
    "%timeit res=sm.measureShapeReconv(gal,psf,psf_galsample,pixel_scale/gal_oversample, psfii, gsparams) #both sinc"
   ]
  },
  {
   "cell_type": "code",
   "execution_count": 5,
   "metadata": {},
   "outputs": [
    {
     "name": "stdout",
     "output_type": "stream",
     "text": [
      "1 loop, best of 3: 29.1 s per loop\n"
     ]
    }
   ],
   "source": [
    "%timeit res=sm.measureShapeReconv(gal,psf,psf_galsample,pixel_scale/gal_oversample, psfii, gsparams) #gal sinc"
   ]
  },
  {
   "cell_type": "code",
   "execution_count": 19,
   "metadata": {},
   "outputs": [
    {
     "name": "stdout",
     "output_type": "stream",
     "text": [
      "1 loop, best of 3: 1.62 s per loop\n"
     ]
    }
   ],
   "source": [
    "%timeit res=sm.measureShapeReconv(gal,psf,psf_galsample,pixel_scale/gal_oversample, psfii, gsparams) #psf sinc"
   ]
  },
  {
   "cell_type": "code",
   "execution_count": 23,
   "metadata": {},
   "outputs": [
    {
     "name": "stdout",
     "output_type": "stream",
     "text": [
      "10 loops, best of 3: 39.7 ms per loop\n"
     ]
    }
   ],
   "source": [
    "%timeit res=sm.measureShapeReconv(gal,psf,psf_galsample,pixel_scale/gal_oversample, psfii, gsparams) #no sinc"
   ]
  },
  {
   "cell_type": "markdown",
   "metadata": {},
   "source": [
    "# Performance Comparison"
   ]
  },
  {
   "cell_type": "code",
   "execution_count": 97,
   "metadata": {},
   "outputs": [
    {
     "name": "stdout",
     "output_type": "stream",
     "text": [
      "orig time:  0.4\n",
      "reconv time:  2.8\n"
     ]
    }
   ],
   "source": [
    "st = time.time()\n",
    "orig = sm.galShiftErrs(gal, psf, 5, pixel_scale/gal_oversample)\n",
    "orig_time = np.round(time.time()-st,1)\n",
    "print 'orig time: ', orig_time\n",
    "st = time.time()\n",
    "reconv = sm.galShiftErrs(gal,psf, 5 , pixel_scale/gal_oversample, sm.measureShapeReconv, psfii, interpolant, gsparams)\n",
    "reconv_time = np.round(time.time()-st,1)\n",
    "print 'reconv time: ', reconv_time\n"
   ]
  },
  {
   "cell_type": "code",
   "execution_count": null,
   "metadata": {},
   "outputs": [],
   "source": []
  },
  {
   "cell_type": "code",
   "execution_count": 98,
   "metadata": {},
   "outputs": [],
   "source": [
    "def meanstd(tup):\n",
    "    m = np.array([np.nanmean(tup[0]), np.nanmean(tup[1])])\n",
    "    s = np.array([np.nanstd(tup[0]), np.nanstd(tup[1])])\n",
    "    return m,s\n",
    "\n",
    "reconvMean, reconvStd = meanstd(reconv)\n",
    "origMean, origStd = meanstd(orig)\n",
    "diffMean, diffStd = meanstd((np.array(reconv[0])-np.array(orig[0]), np.array(reconv[1])-np.array(orig[1])))\n",
    "odiff = origMean - trueEll\n",
    "rdiff = reconvMean - trueEll"
   ]
  },
  {
   "cell_type": "code",
   "execution_count": 99,
   "metadata": {},
   "outputs": [
    {
     "name": "stdout",
     "output_type": "stream",
     "text": [
      "lanczos200. orig time: 0.4s reconv time: 2.8s\n",
      "orig err  [ 3.07222139e-02 -9.82487472e-07] [6.59360861e-03 1.36701211e-06]\n",
      "reconv err  [ 3.07215571e-02 -9.93321969e-07] [6.59308230e-03 1.36868497e-06]\n",
      "diff err  [-6.56843185e-07 -1.08344968e-08] [5.34017702e-07 1.46389047e-08]\n"
     ]
    },
    {
     "data": {
      "image/png": "[encoded data removed]",
      "text/plain": [
       "<matplotlib.figure.Figure at 0x7f7ae966bdd0>"
      ]
     },
     "metadata": {},
     "output_type": "display_data"
    }
   ],
   "source": [
    "print 'lanczos200. orig time: %ss reconv time: %ss' % (orig_time, reconv_time)\n",
    "print 'orig err ', odiff, origStd\n",
    "print 'reconv err ', rdiff, reconvStd\n",
    "print 'diff err ', diffMean, diffStd\n",
    "i = 0\n",
    "plt.errorbar([0,1,2], [odiff[i], rdiff[i], diffMean[i]], fmt='o',c='k',yerr=[origStd[i], reconvStd[i], diffStd[i]])\n",
    "plt.show()"
   ]
  },
  {
   "cell_type": "code",
   "execution_count": 93,
   "metadata": {},
   "outputs": [
    {
     "name": "stdout",
     "output_type": "stream",
     "text": [
      "lanczos100. orig time: 0.4s reconv time: 1.2s\n",
      "orig err  [ 3.07222139e-02 -9.82487472e-07] [6.59360861e-03 1.36701211e-06]\n",
      "reconv err  [ 3.07209014e-02 -1.01921296e-06] [6.59256618e-03 1.36629979e-06]\n",
      "diff err  [-1.31249428e-06 -3.67254925e-08] [1.05644857e-06 3.60918589e-08]\n"
     ]
    },
    {
     "data": {
      "image/png": "[encoded data removed]",
      "text/plain": [
       "<matplotlib.figure.Figure at 0x7f7ae95e5e10>"
      ]
     },
     "metadata": {},
     "output_type": "display_data"
    }
   ],
   "source": [
    "print 'lanczos100. orig time: %ss reconv time: %ss' % (orig_time, reconv_time)\n",
    "print 'orig err ', odiff, origStd\n",
    "print 'reconv err ', rdiff, reconvStd\n",
    "print 'diff err ', diffMean, diffStd\n",
    "i = 0\n",
    "plt.errorbar([0,1,2], [odiff[i], rdiff[i], diffMean[i]], fmt='o',c='k',yerr=[origStd[i], reconvStd[i], diffStd[i]])\n",
    "plt.show()"
   ]
  },
  {
   "cell_type": "code",
   "execution_count": 86,
   "metadata": {},
   "outputs": [
    {
     "name": "stdout",
     "output_type": "stream",
     "text": [
      "lanczos10. orig time: 0.4s reconv time: 0.8s\n",
      "orig err  [ 3.07222139e-02 -9.82487472e-07] [6.59360861e-03 1.36701211e-06]\n",
      "reconv err  [ 3.06415295e-02 -1.62012237e-06] [6.53676993e-03 1.46891792e-06]\n",
      "diff err  [-8.06844234e-05 -6.37634901e-07] [5.75574219e-05 4.88610209e-07]\n"
     ]
    },
    {
     "data": {
      "image/png": "[encoded data removed]",
      "text/plain": [
       "<matplotlib.figure.Figure at 0x7f7ae96caad0>"
      ]
     },
     "metadata": {},
     "output_type": "display_data"
    }
   ],
   "source": [
    "print 'lanczos10. orig time: %ss reconv time: %ss' % (orig_time, reconv_time)\n",
    "print 'orig err ', odiff, origStd\n",
    "print 'reconv err ', rdiff, reconvStd\n",
    "print 'diff err ', diffMean, diffStd\n",
    "i = 0\n",
    "plt.errorbar([0,1,2], [odiff[i], rdiff[i], diffMean[i]], fmt='o',c='k',yerr=[origStd[i], reconvStd[i], diffStd[i]])\n",
    "plt.show()"
   ]
  },
  {
   "cell_type": "code",
   "execution_count": 80,
   "metadata": {},
   "outputs": [
    {
     "name": "stdout",
     "output_type": "stream",
     "text": [
      "Both lanczos7. orig time: 0.4s reconv time: 0.7s\n",
      "orig err  [ 3.07222139e-02 -9.82487472e-07] [6.59360861e-03 1.36701211e-06]\n",
      "reconv err  [ 3.04666495e-02 -1.66452782e-06] [6.49550887e-03 1.48583422e-06]\n",
      "diff err  [-2.55564451e-04 -6.82040346e-07] [9.93778551e-05 5.24147573e-07]\n"
     ]
    },
    {
     "data": {
      "image/png": "[encoded data removed]",
      "text/plain": [
       "<matplotlib.figure.Figure at 0x7f7ae9794ad0>"
      ]
     },
     "metadata": {},
     "output_type": "display_data"
    }
   ],
   "source": [
    "print 'Both lanczos7. orig time: %ss reconv time: %ss' % (orig_time, reconv_time)\n",
    "print 'orig err ', odiff, origStd\n",
    "print 'reconv err ', rdiff, reconvStd\n",
    "print 'diff err ', diffMean, diffStd\n",
    "i = 0\n",
    "plt.errorbar([0,1,2], [odiff[i], rdiff[i], diffMean[i]], fmt='o',c='k',yerr=[origStd[i], reconvStd[i], diffStd[i]])\n",
    "plt.show()"
   ]
  },
  {
   "cell_type": "code",
   "execution_count": 74,
   "metadata": {},
   "outputs": [
    {
     "name": "stdout",
     "output_type": "stream",
     "text": [
      "sinc orig time: 0.4s reconv time: 715.7s\n",
      "orig err  [ 3.07222139e-02 -9.82487472e-07] [6.59360861e-03 1.36701211e-06]\n",
      "reconv err  [ 3.07219910e-02 -9.83033005e-07] [6.59343412e-03 1.36770918e-06]\n",
      "diff err  [-2.22921371e-07 -5.45533099e-10] [1.77441736e-07 4.50254817e-09]\n"
     ]
    },
    {
     "data": {
      "image/png": "[encoded data removed]",
      "text/plain": [
       "<matplotlib.figure.Figure at 0x7f7b69cb9e10>"
      ]
     },
     "metadata": {},
     "output_type": "display_data"
    }
   ],
   "source": [
    "print 'sinc orig time: %ss reconv time: %ss' % (orig_time, reconv_time)\n",
    "print 'orig err ', odiff, origStd\n",
    "print 'reconv err ', rdiff, reconvStd\n",
    "print 'diff err ', diffMean, diffStd\n",
    "i = 0\n",
    "plt.errorbar([0,1,2], [odiff[i], rdiff[i], diffMean[i]], fmt='o',c='k',yerr=[origStd[i], reconvStd[i], diffStd[i]])\n",
    "plt.show()"
   ]
  },
  {
   "cell_type": "code",
   "execution_count": 64,
   "metadata": {},
   "outputs": [
    {
     "name": "stdout",
     "output_type": "stream",
     "text": [
      "quintic. orig time: 0.4s reconv time: 0.7s\n",
      "orig err  [ 3.07222139e-02 -9.82487472e-07] [6.59360861e-03 1.36701211e-06]\n",
      "reconv err  [ 2.24830925e-02 -1.65377253e-06] [5.65973440e-03 1.42977092e-06]\n",
      "diff err  [-8.23912144e-03 -6.71285053e-07] [9.42841007e-04 5.65661243e-07]\n"
     ]
    },
    {
     "data": {
      "image/png": "[encoded data removed]",
      "text/plain": [
       "<matplotlib.figure.Figure at 0x7f7b64757dd0>"
      ]
     },
     "metadata": {},
     "output_type": "display_data"
    }
   ],
   "source": [
    "print 'quintic. orig time: %ss reconv time: %ss' % (orig_time, reconv_time)\n",
    "print 'orig err ', odiff, origStd\n",
    "print 'reconv err ', rdiff, reconvStd\n",
    "print 'diff err ', diffMean, diffStd\n",
    "i = 0\n",
    "plt.errorbar([0,1,2], [odiff[i], rdiff[i], diffMean[i]], fmt='o',c='k',yerr=[origStd[i], reconvStd[i], diffStd[i]])\n",
    "plt.show()"
   ]
  },
  {
   "cell_type": "code",
   "execution_count": 14,
   "metadata": {},
   "outputs": [
    {
     "data": {
      "text/plain": [
       "0.1776697330380235"
      ]
     },
     "execution_count": 14,
     "metadata": {},
     "output_type": "execute_result"
    }
   ],
   "source": [
    "gal.original.half_light_radius"
   ]
  },
  {
   "cell_type": "code",
   "execution_count": 19,
   "metadata": {},
   "outputs": [
    {
     "data": {
      "text/plain": [
       "0.762753018521753"
      ]
     },
     "execution_count": 19,
     "metadata": {},
     "output_type": "execute_result"
    }
   ],
   "source": [
    "q0[2]"
   ]
  },
  {
   "cell_type": "code",
   "execution_count": null,
   "metadata": {},
   "outputs": [],
   "source": []
  }
 ],
 "metadata": {
  "kernelspec": {
   "display_name": "Python 2",
   "language": "python",
   "name": "python2"
  },
  "language_info": {
   "codemirror_mode": {
    "name": "ipython",
    "version": 2
   },
   "file_extension": ".py",
   "mimetype": "text/x-python",
   "name": "python",
   "nbconvert_exporter": "python",
   "pygments_lexer": "ipython2",
   "version": "2.7.5"
  }
 },
 "nbformat": 4,
 "nbformat_minor": 2
}
