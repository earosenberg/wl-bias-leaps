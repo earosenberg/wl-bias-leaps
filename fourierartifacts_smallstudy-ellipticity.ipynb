{
 "cells": [
  {
   "cell_type": "code",
   "execution_count": 17,
   "metadata": {},
   "outputs": [],
   "source": [
    "#Import libraries\n",
    "import numpy as np\n",
    "%matplotlib inline\n",
    "from matplotlib import pyplot as plt\n",
    "import galsim\n",
    "import time\n",
    "#from galsim.gsparams import GSParams\n",
    "from matplotlib.colors import LogNorm\n",
    "import matplotlib.cm as cm\n",
    "import shape_measurement as sm"
   ]
  },
  {
   "cell_type": "code",
   "execution_count": null,
   "metadata": {},
   "outputs": [],
   "source": []
  },
  {
   "cell_type": "code",
   "execution_count": 18,
   "metadata": {},
   "outputs": [],
   "source": [
    "#gsparams=galsim.GSParams()\n",
    "gsparams = galsim.GSParams(kvalue_accuracy=1.e-8,maximum_fft_size=2048*8,maxk_threshold=1.e-6)\n",
    "#gsparams = galsim.GSParams(maximum_fft_size=2048*8)"
   ]
  },
  {
   "cell_type": "code",
   "execution_count": 19,
   "metadata": {},
   "outputs": [],
   "source": [
    "def makeGaussian(im, flux=1., gsparams=None):\n",
    "    im_mom = galsim.hsm.FindAdaptiveMom(im,strict=False)\n",
    "    if im_mom.moments_status != 0:\n",
    "        #print im_mom.correction_status\n",
    "        return False, False, False\n",
    "    else:\n",
    "        im_mom_sigma, im_mom_shear = im_mom.moments_sigma*im.scale, im_mom.observed_shape\n",
    "        im_gaussian = galsim.Gaussian(sigma=im_mom_sigma, flux=flux, gsparams=gsparams)\n",
    "        #im_gaussian = im_gaussian.shear(g1=im_mom_shear.g1,g2=im_mom_shear.g2)\n",
    "        return im_gaussian, im_mom_sigma, im_mom_shear\n"
   ]
  },
  {
   "cell_type": "code",
   "execution_count": 20,
   "metadata": {},
   "outputs": [],
   "source": [
    "pixel_scale = 0.1 #as/px\n",
    "lamda = 550 #nm\n",
    "diameter = 1.2 #m\n",
    "airy = galsim.Airy(lam=lamda, diam=diameter, scale_unit=galsim.arcsec, obscuration=0.3, gsparams=gsparams)\n",
    "pixel = galsim.Pixel(pixel_scale,gsparams=gsparams)\n",
    "psf = galsim.Convolve(airy, pixel)\n",
    "\n",
    "#image_psf = psf.drawImage(scale=pixel_scale/20.,method='no_pixel') #Fit a Gaussian\n",
    "#psf_gaussian = makeGaussian(image_psf,gsparams=gsparams)[0]\n",
    "psf_gaussian = psf #Now a misnomer, make it Airy\n",
    "\n",
    "given_psf = psf_gaussian.drawImage(scale=pixel_scale/10.,method='no_pixel') #Draw oversampled psf image\n",
    "\n",
    "#gauss_psfii = psf_gaussian\n",
    "gauss_psfii = galsim.InterpolatedImage(given_psf, gsparams=gsparams)\n"
   ]
  },
  {
   "cell_type": "code",
   "execution_count": 21,
   "metadata": {},
   "outputs": [
    {
     "name": "stdout",
     "output_type": "stream",
     "text": [
      "(1098, 1098)\n"
     ]
    },
    {
     "data": {
      "image/png": "[encoded data removed]",
      "text/plain": [
       "<matplotlib.figure.Figure at 0x7f5c62f0da10>"
      ]
     },
     "metadata": {},
     "output_type": "display_data"
    }
   ],
   "source": [
    "fig,ax=plt.subplots(1,2)\n",
    "stamp=galsim.ImageF(60,60)\n",
    "new_image_psf = psf.drawImage(scale=pixel_scale/10.,method='no_pixel',image=stamp)\n",
    "vmin,vmax=np.min(new_image_psf.array),np.max(new_image_psf.array)\n",
    "f1=ax[0].imshow(new_image_psf.array,norm=LogNorm(),vmin=vmin,vmax=vmax)\n",
    "f2=ax[1].imshow(given_psf.array,norm=LogNorm(),vmin=vmin,vmax=vmax)\n",
    "fig.colorbar(f1,ax=ax[0])\n",
    "fig.colorbar(f2,ax=ax[1])\n",
    "print given_psf.array.shape"
   ]
  },
  {
   "cell_type": "code",
   "execution_count": 22,
   "metadata": {},
   "outputs": [],
   "source": [
    "#Load galaxy catalog and select galaxies\n",
    "cc = galsim.COSMOSCatalog(dir='/disks/shear15/KiDS/ImSim/pipeline/data/COSMOS_25.2_training_sample/',use_real=False)\n",
    "hlr, sn, q = [np.array([pc[4][i] for pc in cc.param_cat]) for i in range(1,4)]\n",
    "\n",
    "small100I = np.where(np.logical_and(hlr*np.sqrt(q)>2.5, sn>=0.5))[0][:1] #Large galaxies, reasonable sersic n\n",
    "gal = cc.makeGalaxy(small100I, chromatic=False, gsparams=gsparams)[0]"
   ]
  },
  {
   "cell_type": "code",
   "execution_count": null,
   "metadata": {},
   "outputs": [],
   "source": []
  },
  {
   "cell_type": "code",
   "execution_count": 23,
   "metadata": {},
   "outputs": [
    {
     "name": "stdout",
     "output_type": "stream",
     "text": [
      "-2.0166683e-11\n"
     ]
    },
    {
     "data": {
      "image/png": "[encoded data removed]",
      "text/plain": [
       "<matplotlib.figure.Figure at 0x7f5c5f2758d0>"
      ]
     },
     "metadata": {},
     "output_type": "display_data"
    }
   ],
   "source": [
    "plt.imshow(gal.drawImage(scale=pixel_scale).array,norm=LogNorm())\n",
    "plt.colorbar()\n",
    "print np.min(gal.drawImage().array)"
   ]
  },
  {
   "cell_type": "code",
   "execution_count": 25,
   "metadata": {},
   "outputs": [
    {
     "name": "stdout",
     "output_type": "stream",
     "text": [
      "galsim.Sersic(n=1.0, half_light_radius=0.108705859505, flux=2.16024879771).shear(galsim.Shear(g1=0.05493919119883436,g2=0.46971950650886507))\n"
     ]
    }
   ],
   "source": [
    "# gal = galsim.Sersic(n=0.9,scale_radius = 0.2899613, flux=7.4369873,gsparams=gsparams)\n",
    "# gal=gal.transform(0.8222,0.260355,0.260355,1.29868)\n",
    "print gal\n",
    "gal = galsim.Sersic(n=1.0,half_light_radius=0.108705859505, flux=2.16024879771,gsparams=gsparams)\n",
    "#gal = gal.shear(galsim.Shear(g1=0.05493919119883436,g2=0.46971950650886507))\n",
    "gal = gal.shear(galsim.Shear(g1=0.0,g2=0.48))\n",
    "\n",
    "orig_gal = gal"
   ]
  },
  {
   "cell_type": "code",
   "execution_count": 26,
   "metadata": {},
   "outputs": [],
   "source": [
    "gridsize=30\n",
    "x1,x2=np.linspace(0.01,0.9,gridsize),np.linspace(0.01,0.9,gridsize)\n",
    "e1,e2= np.meshgrid(x1,x2)\n",
    "mask= e1**2+e2**2>0.9\n",
    "e1[mask]=np.nan\n",
    "e2[mask]=np.nan\n",
    "shears=zip(e1.flatten(),e2.flatten())"
   ]
  },
  {
   "cell_type": "code",
   "execution_count": 27,
   "metadata": {},
   "outputs": [
    {
     "name": "stdout",
     "output_type": "stream",
     "text": [
      "23.47\n"
     ]
    }
   ],
   "source": [
    "st = time.clock()\n",
    "#shears = [0.,]#np.linspace(0,0.8,11)[1:]\n",
    "errs = []\n",
    "shearlist=[]\n",
    "#print shears\n",
    "for shear in shears:\n",
    "    if np.isnan(shear[0]) or np.isnan(shear[1]):\n",
    "        errs.append((-999,-999))\n",
    "        continue\n",
    "    #print shear\n",
    "    gal = orig_gal.shear(galsim.Shear(e1=shear[0],e2=shear[1]))\n",
    "    #gal=orig_gal.shear(galsim.Shear(g1=0,g2=shear))\n",
    "    fin = galsim.Convolve([gal,psf_gaussian])\n",
    "    given_im = fin.drawImage(scale=pixel_scale, method='no_pixel')\n",
    "\n",
    "    #gal_interp = fin\n",
    "    gal_interp = galsim.InterpolatedImage(given_im,gsparams=gsparams)\n",
    "\n",
    "    inv_gauss = galsim.Deconvolve(gauss_psfii)\n",
    "    dec = galsim.Convolve(gal_interp,inv_gauss)\n",
    "    rec = galsim.Convolve(dec, gauss_psfii)\n",
    "\n",
    "    recIm = rec.drawImage(scale=pixel_scale,method='no_pixel')\n",
    "\n",
    "    decIm = dec.drawImage(scale=pixel_scale)\n",
    "    ss=decIm.array.shape[0]\n",
    "    stamp=galsim.ImageF(ss,ss)\n",
    "    # plt.imshow(decIm.array - gal.drawImage(image=stamp,scale=pixel_scale).array)\n",
    "    # plt.colorbar()\n",
    "\n",
    "    recsize = recIm.array.shape[0]\n",
    "    origIm = galsim.ImageF(recsize,recsize)\n",
    "    origIm = fin.drawImage(image=origIm,scale=pixel_scale,method='no_pixel')       \n",
    "    \n",
    "#     fig,ax=plt.subplots(1,2)\n",
    "#     f1=ax[0].imshow(origIm.array,norm=LogNorm(),vmin=1e-6)\n",
    "#     f2=ax[1].imshow(recIm.array,norm=LogNorm(),vmin=1e-6)\n",
    "#     fig.colorbar(f1,ax=ax[0])\n",
    "#     fig.colorbar(f2,ax=ax[1])\n",
    "#     plt.show()\n",
    "\n",
    "    # plt.imshow(origIm.array / recIm.array - 1,vmin=-2e-3,vmax=2e-3,cmap=cm.bwr)\n",
    "    # plt.colorbar()\n",
    "\n",
    "#     plt.imshow((origIm.array - recIm.array)*1e5,vmin=-2,vmax=2,cmap=cm.bwr)\n",
    "#     plt.colorbar()\n",
    "#     plt.show()\n",
    "\n",
    "    #print np.max(np.abs(origIm.array - recIm.array))\n",
    "\n",
    "    orig_shape=galsim.hsm.FindAdaptiveMom(origIm).observed_shape\n",
    "    #print orig_shape.e1, orig_shape.e2\n",
    "\n",
    "    rec_shape=galsim.hsm.FindAdaptiveMom(recIm).observed_shape\n",
    "    #print rec_shape.e1, rec_shape.e2\n",
    "\n",
    "    #e1err,e2err= 1-rec_shape.e1/orig_shape.e1, 1-rec_shape.e2/orig_shape.e2\n",
    "    e1err, e2err = np.abs(rec_shape.e1-orig_shape.e1), np.abs(rec_shape.e2-orig_shape.e2)\n",
    "    errs.append((e1err,e2err))\n",
    "    shearlist.append(shear)\n",
    "print time.clock() - st"
   ]
  },
  {
   "cell_type": "code",
   "execution_count": 28,
   "metadata": {},
   "outputs": [],
   "source": [
    "e1errs = np.abs(np.array([err[0] for err in errs]))\n",
    "e2errs = np.abs(np.array([err[1] for err in errs]))\n",
    "\n",
    "shear1 = np.array([sh[0] for sh in shears]).reshape((gridsize,gridsize))\n",
    "shear2 = np.array([sh[1] for sh in shears]).reshape((gridsize,gridsize))"
   ]
  },
  {
   "cell_type": "code",
   "execution_count": 29,
   "metadata": {},
   "outputs": [],
   "source": [
    "e1errs=np.array(e1errs).reshape((gridsize,gridsize))\n",
    "e2errs=np.array(e2errs).reshape((gridsize,gridsize))\n",
    "tot_err = np.sqrt(e1errs**2 + e2errs**2)"
   ]
  },
  {
   "cell_type": "code",
   "execution_count": 30,
   "metadata": {},
   "outputs": [
    {
     "name": "stdout",
     "output_type": "stream",
     "text": [
      "30\n"
     ]
    }
   ],
   "source": [
    "print len(e2errs)"
   ]
  },
  {
   "cell_type": "code",
   "execution_count": 33,
   "metadata": {},
   "outputs": [
    {
     "name": "stderr",
     "output_type": "stream",
     "text": [
      "/software/rhel7/lib64/python2.7/site-packages/matplotlib/colors.py:494: RuntimeWarning: invalid value encountered in less\n",
      "  cbook._putmask(xa, xa < 0.0, -1)\n"
     ]
    },
    {
     "data": {
      "image/png": "[encoded data removed]",
      "text/plain": [
       "<matplotlib.figure.Figure at 0x7f5c5f2751d0>"
      ]
     },
     "metadata": {},
     "output_type": "display_data"
    },
    {
     "data": {
      "image/png": "[encoded data removed]",
      "text/plain": [
       "<matplotlib.figure.Figure at 0x7f5c5f275e50>"
      ]
     },
     "metadata": {},
     "output_type": "display_data"
    },
    {
     "data": {
      "image/png": "[encoded data removed]",
      "text/plain": [
       "<matplotlib.figure.Figure at 0x7f5c5cd04c10>"
      ]
     },
     "metadata": {},
     "output_type": "display_data"
    }
   ],
   "source": [
    "plt.pcolor(shear1,shear2,e1errs)\n",
    "plt.xlabel('e1')\n",
    "plt.ylabel('e2')\n",
    "plt.colorbar()\n",
    "plt.title('e1 errors')\n",
    "plt.show()\n",
    "plt.pcolor(shear1,shear2,e2errs)\n",
    "plt.xlabel('e1')\n",
    "plt.ylabel('e2')\n",
    "plt.colorbar()\n",
    "plt.title('e2 errors')\n",
    "plt.show()\n",
    "plt.pcolor(shear1,shear2,tot_err)\n",
    "plt.xlabel('e1')\n",
    "plt.ylabel('e2')\n",
    "plt.colorbar()\n",
    "plt.title('Total errors')\n",
    "plt.show()"
   ]
  },
  {
   "cell_type": "code",
   "execution_count": 34,
   "metadata": {},
   "outputs": [
    {
     "name": "stdout",
     "output_type": "stream",
     "text": [
      "[[3.23990360e-04 1.15774944e-03 1.99032575e-03 2.82175094e-03\n",
      "  3.65000963e-03 4.47377563e-03 5.29158115e-03 6.10242784e-03\n",
      "  6.90312684e-03 7.69209862e-03 8.46678019e-03 9.22435522e-03\n",
      "  9.96091962e-03 1.06746256e-02 1.13614500e-02 1.20163858e-02\n",
      "  1.26362741e-02 1.32157505e-02 1.37493908e-02 1.42298937e-02\n",
      "  1.46502554e-02 1.50010586e-02 1.52723193e-02 1.54499412e-02\n",
      "  1.55168176e-02 1.54520869e-02 1.52271390e-02 1.48025751e-02\n",
      "  1.41229033e-02 1.30984783e-02]\n",
      " [3.22343782e-04 1.14649534e-03 1.96955353e-03 2.79187411e-03\n",
      "  3.61137092e-03 4.42712009e-03 5.23717701e-03 6.04112446e-03\n",
      "  6.83601201e-03 7.61915743e-03 8.38923454e-03 9.14293528e-03\n",
      "  9.87672806e-03 1.05887353e-02 1.12748146e-02 1.19307041e-02\n",
      "  1.25522912e-02 1.31350160e-02 1.36737525e-02 1.41610801e-02\n",
      "  1.45912170e-02 1.49541199e-02 1.52404308e-02 1.54365897e-02\n",
      "  1.55257583e-02 1.54882669e-02 1.52949691e-02 1.49078965e-02\n",
      "  1.42713785e-02 1.32956505e-02]\n",
      " [3.20491847e-04 1.13471039e-03 1.94807351e-03 2.76067853e-03\n",
      "  3.57118249e-03 4.37840819e-03 5.18073142e-03 5.97719848e-03\n",
      "  6.76548481e-03 7.54266977e-03 8.30763578e-03 9.05695558e-03\n",
      "  9.78764892e-03 1.04969144e-02 1.11814141e-02 1.18365288e-02\n",
      "  1.24589503e-02 1.30437911e-02 1.35853291e-02 1.40779018e-02\n",
      "  1.45144463e-02 1.48865283e-02 1.51843429e-02 1.53951645e-02\n",
      "  1.55020356e-02 1.54852271e-02 1.53168440e-02 1.49583817e-02\n",
      "  1.43536329e-02 1.34114027e-02]\n",
      " [3.18210572e-04 1.12191588e-03 1.92560628e-03 2.72815675e-03\n",
      "  3.52926552e-03 4.32763249e-03 5.12169302e-03 5.91096282e-03\n",
      "  6.69200718e-03 7.46299326e-03 8.22211802e-03 8.96689296e-03\n",
      "  9.69377160e-03 1.03998482e-02 1.10813081e-02 1.17348433e-02\n",
      "  1.23564899e-02 1.29417479e-02 1.34846568e-02 1.39801204e-02\n",
      "  1.44207478e-02 1.47992373e-02 1.51055455e-02 1.53260827e-02\n",
      "  1.54458880e-02 1.54443383e-02 1.52937770e-02 1.49551630e-02\n",
      "  1.43709183e-02 1.34459138e-02]\n",
      " [3.15896235e-04 1.10862963e-03 1.90207735e-03 2.69453228e-03\n",
      "  3.48570943e-03 4.27488238e-03 5.06034493e-03 5.84176183e-03\n",
      "  6.61543012e-03 7.37996399e-03 8.13296437e-03 8.87213647e-03\n",
      "  9.59479809e-03 1.02967918e-02 1.09748840e-02 1.16258562e-02\n",
      "  1.22455060e-02 1.28294230e-02 1.33723021e-02 1.38685107e-02\n",
      "  1.43109858e-02 1.46930814e-02 1.50039196e-02 1.52308345e-02\n",
      "  1.53585672e-02 1.53664947e-02 1.52265429e-02 1.48987770e-02\n",
      "  1.43227577e-02 1.33979917e-02]\n",
      " [3.13332770e-04 1.09511614e-03 1.87752768e-03 2.65930593e-03\n",
      "  3.44043970e-03 4.21989709e-03 4.99674678e-03 5.76961040e-03\n",
      "  6.53590262e-03 7.29319453e-03 8.04023445e-03 8.77359509e-03\n",
      "  9.49090719e-03 1.01881325e-02 1.08622015e-02 1.15092397e-02\n",
      "  1.21259093e-02 1.27073526e-02 1.32481158e-02 1.37434602e-02\n",
      "  1.41856968e-02 1.45679712e-02 1.48802996e-02 1.51095390e-02\n",
      "  1.52404904e-02 1.52519345e-02 1.51154399e-02 1.47889853e-02\n",
      "  1.42083168e-02 1.32642388e-02]\n",
      " [3.10663600e-04 1.08091347e-03 1.85152516e-03 2.62259692e-03\n",
      "  3.39309871e-03 4.16276604e-03 4.93019819e-03 5.69452345e-03\n",
      "  6.45264983e-03 7.20328093e-03 7.94349611e-03 8.67071748e-03\n",
      "  9.38236713e-03 1.00742579e-02 1.07432902e-02 1.13857090e-02\n",
      "  1.19981170e-02 1.25755072e-02 1.31128430e-02 1.36052370e-02\n",
      "  1.40447319e-02 1.44246519e-02 1.47351623e-02 1.49627924e-02\n",
      "  1.50920749e-02 1.51009560e-02 1.49599910e-02 1.46247149e-02\n",
      "  1.40252709e-02 1.30387545e-02]\n",
      " [3.07798386e-04 1.06561743e-03 1.82450563e-03 2.58399546e-03\n",
      "  3.34361941e-03 4.10319865e-03 4.86086309e-03 5.61623275e-03\n",
      "  6.36644661e-03 7.10947812e-03 7.84309208e-03 8.56362283e-03\n",
      "  9.26873088e-03 9.95478034e-03 1.06183589e-02 1.12550557e-02\n",
      "  1.18622184e-02 1.24341249e-02 1.29663646e-02 1.34534538e-02\n",
      "  1.38883293e-02 1.42630339e-02 1.45680904e-02 1.47902369e-02\n",
      "  1.49127841e-02 1.49127245e-02 1.47592425e-02 1.44035816e-02\n",
      "  1.37686133e-02 1.27123594e-02]\n",
      " [3.04877758e-04 1.04975514e-03 1.79612264e-03 2.54360586e-03\n",
      "  3.29189748e-03 4.04051691e-03 4.78863716e-03 5.53479791e-03\n",
      "  6.27654791e-03 7.01187551e-03 7.73799419e-03 8.45186412e-03\n",
      "  9.15035605e-03 9.82990861e-03 1.04869008e-02 1.11169517e-02\n",
      "  1.17179155e-02 1.22832358e-02 1.28085613e-02 1.32883191e-02\n",
      "  1.37159824e-02 1.40830278e-02 1.43796206e-02 1.45915747e-02\n",
      "  1.47019029e-02 1.46866441e-02 1.45110488e-02 1.41223073e-02\n",
      "  1.34319067e-02 1.22700334e-02]\n",
      " [3.01303808e-04 1.03298761e-03 1.76621601e-03 2.50097364e-03\n",
      "  3.23780626e-03 3.97494435e-03 4.71292436e-03 5.44995070e-03\n",
      "  6.18293881e-03 6.91021979e-03 7.62881339e-03 8.33576918e-03\n",
      "  9.02685523e-03 9.69919562e-03 1.03491843e-02 1.09721124e-02\n",
      "  1.15649998e-02 1.21221542e-02 1.26391649e-02 1.31096840e-02\n",
      "  1.35275424e-02 1.38840377e-02 1.41680837e-02 1.43656731e-02\n",
      "  1.44581795e-02 1.44197941e-02 1.42120123e-02 1.37748718e-02\n",
      "  1.30045414e-02 1.16879344e-02]\n",
      " [2.97675375e-04 1.01517886e-03 1.73461810e-03 2.45620310e-03\n",
      "  3.18049639e-03 3.90661508e-03 4.63353097e-03 5.36103547e-03\n",
      "  6.08547032e-03 6.80439174e-03 7.51507282e-03 8.21445882e-03\n",
      "  8.89819860e-03 9.56282020e-03 1.02050006e-02 1.08193755e-02\n",
      "  1.14032924e-02 1.19510591e-02 1.24578178e-02 1.29172206e-02\n",
      "  1.33227706e-02 1.36651099e-02 1.39329433e-02 1.41113400e-02\n",
      "  1.41795874e-02 1.41096115e-02 1.38575435e-02 1.33534074e-02\n",
      "  1.24704242e-02            nan]\n",
      " [2.93913763e-04 9.96243209e-04 1.70089304e-03 2.40903348e-03\n",
      "  3.11999023e-03 3.83428484e-03 4.55038249e-03 5.26782870e-03\n",
      "  5.98339736e-03 6.69400394e-03 7.39663839e-03 8.08805227e-03\n",
      "  8.76384974e-03 9.42057371e-03 1.00533962e-02 1.06589794e-02\n",
      "  1.12325549e-02 1.17693245e-02 1.22638941e-02 1.27097368e-02\n",
      "  1.31001174e-02 1.34250820e-02 1.36725903e-02 1.38260722e-02\n",
      "  1.38627887e-02 1.37512684e-02 1.34400725e-02 1.28453374e-02\n",
      "  1.18044019e-02            nan]\n",
      " [2.89605930e-04 9.76158306e-04 1.66533887e-03 2.35851109e-03\n",
      "  3.05616111e-03 3.75785679e-03 4.46298718e-03 5.17021120e-03\n",
      "  5.87651134e-03 6.57840073e-03 7.27327168e-03 7.95662403e-03\n",
      "  8.62386823e-03 9.27153230e-03 9.89484787e-03 1.04899704e-02\n",
      "  1.10521019e-02 1.15760267e-02 1.20563805e-02 1.24866068e-02\n",
      "  1.28585398e-02 1.31623149e-02 1.33846402e-02 1.35069489e-02\n",
      "  1.35038495e-02 1.33382678e-02 1.29492283e-02 1.22315884e-02\n",
      "  1.09646916e-02            nan]\n",
      " [2.85021029e-04 9.54313204e-04 1.62707642e-03 2.30494142e-03\n",
      "  2.98821926e-03 3.67701054e-03 4.37064469e-03 5.06749749e-03\n",
      "  5.76432049e-03 6.45767152e-03 7.14421272e-03 7.81883299e-03\n",
      "  8.47765803e-03 9.11554694e-03 9.72858071e-03 1.03119910e-02\n",
      "  1.08610690e-02 1.13705099e-02 1.18344426e-02 1.22459829e-02\n",
      "  1.25963092e-02 1.28748119e-02 1.30659342e-02 1.31496191e-02\n",
      "  1.30962133e-02 1.28613114e-02 1.23698711e-02 1.14825964e-02\n",
      "             nan            nan]\n",
      " [2.79793981e-04 9.30992886e-04 1.58610567e-03 2.24736333e-03\n",
      "  2.91550905e-03 3.59070301e-03 4.27284837e-03 4.95915115e-03\n",
      "  5.64654171e-03 6.33114576e-03 7.00899959e-03 7.67500699e-03\n",
      "  8.32456350e-03 8.95234942e-03 9.55402851e-03 1.01245940e-02\n",
      "  1.06587112e-02 1.11514330e-02 1.15963817e-02 1.19861662e-02\n",
      "  1.23108327e-02 1.25587583e-02 1.27121806e-02 1.27480030e-02\n",
      "  1.26312971e-02 1.23067498e-02 1.16775036e-02 1.05476975e-02\n",
      "             nan            nan]\n",
      " [2.74199061e-04 9.05539840e-04 1.54167414e-03 2.18522549e-03\n",
      "  2.83769518e-03 3.49906832e-03 4.16907668e-03 4.84482944e-03\n",
      "  5.52257895e-03 6.19812310e-03 6.86754286e-03 7.52450526e-03\n",
      "  8.16386938e-03 8.78101587e-03 9.36990976e-03 9.92599130e-03\n",
      "  1.04436874e-02 1.09172463e-02 1.13404095e-02 1.17044747e-02\n",
      "  1.19985938e-02 1.22097135e-02 1.23175383e-02 1.22940540e-02\n",
      "  1.20964646e-02 1.16538405e-02 1.08336806e-02            nan\n",
      "             nan            nan]\n",
      " [2.67324038e-04 8.77801329e-04 1.49352103e-03 2.11808830e-03\n",
      "  2.75358558e-03 3.40059400e-03 4.05825675e-03 4.72313166e-03\n",
      "  5.39122522e-03 6.05818629e-03 6.71893358e-03 7.36656785e-03\n",
      "  7.99554586e-03 8.60065222e-03 9.17541981e-03 9.71516967e-03\n",
      "  1.02141798e-02 1.06659532e-02 1.10636652e-02 1.13973916e-02\n",
      "  1.16554797e-02 1.18221045e-02 1.18736029e-02 1.17753148e-02\n",
      "  1.14730597e-02 1.08702779e-02            nan            nan\n",
      "             nan            nan]\n",
      " [2.60411762e-04 8.47175717e-04 1.44057348e-03 2.04477459e-03\n",
      "  2.66288966e-03 3.29449028e-03 3.93933058e-03 4.59355116e-03\n",
      "  5.25233150e-03 5.91087341e-03 6.56247139e-03 7.20044971e-03\n",
      "  7.81843066e-03 8.41033459e-03 8.96942616e-03 9.49078798e-03\n",
      "  9.96804237e-03 1.03946626e-02 1.07623339e-02 1.10606849e-02\n",
      "  1.12755597e-02 1.13878250e-02 1.13691688e-02 1.11747980e-02\n",
      "  1.07319951e-02 9.89931822e-03            nan            nan\n",
      "             nan            nan]\n",
      " [2.52382830e-04 8.13104212e-04 1.38227269e-03 1.96434557e-03\n",
      "  2.56334245e-03 3.17941606e-03 3.81107628e-03 4.45502996e-03\n",
      "  5.10503352e-03 5.75494766e-03 6.39766455e-03 7.02539086e-03\n",
      "  7.63130188e-03 8.20854306e-03 8.75005126e-03 9.25022364e-03\n",
      "  9.70241427e-03 1.00993514e-02 1.04320943e-02 1.06876791e-02\n",
      "  1.08498335e-02 1.08948946e-02 1.07861161e-02 1.04643106e-02\n",
      "  9.82332230e-03            nan            nan            nan\n",
      "             nan            nan]\n",
      " [2.43229326e-04 7.75150955e-04 1.31673366e-03 1.87525898e-03\n",
      "  2.45406479e-03 3.05382162e-03 3.67279351e-03 4.30648029e-03\n",
      "  4.94790077e-03 5.58970869e-03 6.22342527e-03 6.84055686e-03\n",
      "  7.43329525e-03 7.99378753e-03 8.51500034e-03 8.99073482e-03\n",
      "  9.41365957e-03 9.77557898e-03 1.00661218e-02 1.02697313e-02\n",
      "  1.03665292e-02 1.03257895e-02 1.00980401e-02 9.59825516e-03\n",
      "             nan            nan            nan            nan\n",
      "             nan            nan]\n",
      " [2.32635066e-04 7.32015818e-04 1.24369189e-03 1.77577138e-03\n",
      "  2.33288854e-03 2.91599333e-03 3.52226198e-03 4.14650142e-03\n",
      "  4.77996469e-03 5.41417301e-03 6.03888929e-03 6.64451718e-03\n",
      "  7.22238421e-03 7.76386261e-03 8.26126337e-03 8.70811939e-03\n",
      "  9.09644365e-03 9.41631198e-03 9.65508819e-03 9.79462266e-03\n",
      "  9.80800390e-03 9.65350866e-03 9.26011801e-03            nan\n",
      "             nan            nan            nan            nan\n",
      "             nan            nan]\n",
      " [2.20506452e-04 6.82467595e-04 1.16051361e-03 1.66338682e-03\n",
      "  2.19777226e-03 2.76363641e-03 3.35793197e-03 3.97348404e-03\n",
      "  4.60028648e-03 5.22741675e-03 5.84280491e-03 6.43602014e-03\n",
      "  6.99639320e-03 7.51551986e-03 7.98466802e-03 8.39695334e-03\n",
      "  8.74304771e-03 9.01141763e-03 9.18591022e-03 9.24310088e-03\n",
      "  9.14561749e-03 8.83227587e-03 8.18711519e-03            nan\n",
      "             nan            nan            nan            nan\n",
      "             nan            nan]\n",
      " [2.06274446e-04 6.25392422e-04 1.06472149e-03 1.53574347e-03\n",
      "  2.04511732e-03 2.59386003e-03 3.17743421e-03 3.78607213e-03\n",
      "  4.40749526e-03 5.02805412e-03 5.63390553e-03 6.21235371e-03\n",
      "  6.75225258e-03 7.24446774e-03 7.67943263e-03 8.04910064e-03\n",
      "  8.34298134e-03 8.54635239e-03 8.63778591e-03 8.58435035e-03\n",
      "  8.33046436e-03 7.77405500e-03            nan            nan\n",
      "             nan            nan            nan            nan\n",
      "             nan            nan]\n",
      " [1.89309474e-04 5.58221713e-04 9.52925533e-04 1.38804317e-03\n",
      "  1.87142938e-03 2.40369141e-03 2.97826529e-03 3.58255208e-03\n",
      "  4.20048833e-03 4.81508672e-03 5.41028380e-03 5.97116351e-03\n",
      "  6.48590922e-03 6.94423914e-03 7.33625889e-03 7.65255094e-03\n",
      "  7.87958503e-03 7.99801946e-03 7.97677040e-03 7.76472688e-03\n",
      "             nan            nan            nan            nan\n",
      "             nan            nan            nan            nan\n",
      "             nan            nan]\n",
      " [1.68685336e-04 4.77723777e-04 8.20364803e-04 1.21518224e-03\n",
      "  1.67142600e-03 2.18917429e-03 2.75789201e-03 3.36110592e-03\n",
      "  3.97793949e-03 4.58715856e-03 5.16919792e-03 5.70812821e-03\n",
      "  6.19041920e-03 6.60514832e-03 6.94191456e-03 7.18837976e-03\n",
      "  7.32642412e-03 7.32657313e-03 7.14010000e-03            nan\n",
      "             nan            nan            nan            nan\n",
      "             nan            nan            nan            nan\n",
      "             nan            nan]\n",
      " [1.43199228e-04 3.79078090e-04 6.59648329e-04 1.00890547e-03\n",
      "  1.43851340e-03 1.94493681e-03 2.51345336e-03 3.12073529e-03\n",
      "  3.73923779e-03 4.34270501e-03 4.90766764e-03 5.41639328e-03\n",
      "  5.85511327e-03 6.21154904e-03 6.47366047e-03 6.62431121e-03\n",
      "  6.63509965e-03 6.45652413e-03            nan            nan\n",
      "             nan            nan            nan            nan\n",
      "             nan            nan            nan            nan\n",
      "             nan            nan]\n",
      " [1.10889785e-04 2.55042687e-04 4.60349023e-04 7.58707523e-04\n",
      "  1.16331875e-03 1.66580826e-03 2.24278867e-03 2.86099315e-03\n",
      "  3.48444283e-03 4.07917798e-03 4.61868942e-03 5.08397818e-03\n",
      "  5.46061993e-03 5.73512912e-03 5.89093566e-03 5.89919090e-03\n",
      "             nan            nan            nan            nan\n",
      "             nan            nan            nan            nan\n",
      "             nan            nan            nan            nan\n",
      "             nan            nan]\n",
      " [6.81569800e-05 9.31452960e-05 2.05546618e-04 4.48241830e-04\n",
      "  8.34263861e-04 1.34646893e-03 1.94647908e-03 2.58512795e-03\n",
      "  3.21416557e-03 3.79218161e-03 4.28986549e-03 4.68748808e-03\n",
      "  4.97049093e-03 5.12152910e-03 5.10910153e-03            nan\n",
      "             nan            nan            nan            nan\n",
      "             nan            nan            nan            nan\n",
      "             nan            nan            nan            nan\n",
      "             nan            nan]\n",
      " [8.99843872e-06 1.28068030e-04 1.33045018e-04 5.25191426e-05\n",
      "  4.37572598e-04 9.85413790e-04 1.63106620e-03 2.30024755e-03\n",
      "  2.92915106e-03 3.46907973e-03 3.89069319e-03 4.17560339e-03\n",
      "  4.30443883e-03            nan            nan            nan\n",
      "             nan            nan            nan            nan\n",
      "             nan            nan            nan            nan\n",
      "             nan            nan            nan            nan\n",
      "             nan            nan]\n",
      " [7.91498460e-05 4.50897962e-04 6.06931746e-04 4.65758145e-04\n",
      "  3.72305512e-05 5.96538186e-04 1.31991506e-03 2.02248991e-03\n",
      "  2.62187421e-03 3.06904316e-03            nan            nan\n",
      "             nan            nan            nan            nan\n",
      "             nan            nan            nan            nan\n",
      "             nan            nan            nan            nan\n",
      "             nan            nan            nan            nan\n",
      "             nan            nan]]\n"
     ]
    }
   ],
   "source": [
    "print e1errs"
   ]
  },
  {
   "cell_type": "code",
   "execution_count": null,
   "metadata": {},
   "outputs": [],
   "source": []
  }
 ],
 "metadata": {
  "kernelspec": {
   "display_name": "Python 2",
   "language": "python",
   "name": "python2"
  },
  "language_info": {
   "codemirror_mode": {
    "name": "ipython",
    "version": 2
   },
   "file_extension": ".py",
   "mimetype": "text/x-python",
   "name": "python",
   "nbconvert_exporter": "python",
   "pygments_lexer": "ipython2",
   "version": "2.7.5"
  }
 },
 "nbformat": 4,
 "nbformat_minor": 2
}
