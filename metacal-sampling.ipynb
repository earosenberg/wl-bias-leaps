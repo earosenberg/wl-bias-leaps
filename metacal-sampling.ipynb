{
 "cells": [
  {
   "cell_type": "markdown",
   "metadata": {},
   "source": [
    "In this notebook we apply some of the methods and code of shape_measurement.ipynb to investigate the effect of pixelization and undersampling on metacalibration.\n",
    "Important papers:\n",
    "\n",
    "Huff & Mandelbaum https://arxiv.org/pdf/1702.02600.pdf\n",
    "\n",
    "Sheldon & Huff    https://arxiv.org/pdf/1702.02601.pdf"
   ]
  },
  {
   "cell_type": "code",
   "execution_count": 1,
   "metadata": {},
   "outputs": [],
   "source": [
    "#Import libraries\n",
    "import numpy as np\n",
    "from matplotlib import pyplot as plt\n",
    "%matplotlib inline\n",
    "import galsim\n",
    "from scipy.optimize import curve_fit\n",
    "import time\n",
    "from galsim.gsparams import GSParams\n",
    "from galsim.hsm import HSMParams\n",
    "from scipy import fftpack\n",
    "import shape_measurement as sm"
   ]
  },
  {
   "cell_type": "code",
   "execution_count": 2,
   "metadata": {},
   "outputs": [],
   "source": [
    "#Simulation options\n",
    "matchRotNans = True #All rotated images of a galaxy are nan if one of them is nan, if True\n",
    "nrot = 3 #Number of images per galaxy ie 1 is no rotations, 2 is a 0 and 90 degree rot, etc\n",
    "ngal = 7 #Number of galaxies to simulate\n",
    "shearList = [(0,0),(0.04,0),(-0.04,0),(0,0.04),(0,-0.04)] #list of shears to apply\n",
    "g1shear = [shear[0] for shear in shearList]\n",
    "g2shear = [shear[1] for shear in shearList]\n",
    "\n",
    "gsparams = galsim.GSParams(maximum_fft_size=12288)\n",
    "\n",
    "#Parameters of the galaxy flux distribution\n",
    "m_min, m_max = 19, 25 #min, max magnitudes\n",
    "m0 = 25\n",
    "\n",
    "#Parameters of the galaxy ellipticity function\n",
    "epsilon0 = 0.35\n",
    "distortion_cutoff = 0.95\n",
    "shape_parameter_type = 'distortion'\n",
    "\n",
    "#Other parameters of the galaxy population\n",
    "disk_n = 0.5  #n for Sersic profile; 1/2 for Gaussian\n",
    "disk_re = 0.8 #half-light radius, as\n",
    "\n",
    "#Parameters of the PSF\n",
    "psf_sigma = 0.5 #as\n",
    "pixel_scale = 0.1 #as/px\n",
    "\n",
    "#Parameters of the noise\n",
    "noise_on = False\n",
    "noise_sigma = 0.01 #Gives SNR ~300 for m = 20, m0=25\n",
    "\n",
    "#Airy PSF\n",
    "lamda = 750 #nm\n",
    "diameter = 1.2 #m\n",
    "airy = galsim.Airy(lam=lamda, diam=diameter, scale_unit=galsim.arcsec, obscuration=0.3)\n",
    "pixel = galsim.Pixel(pixel_scale)\n",
    "psf = galsim.Convolve(airy, pixel)\n",
    "image_psf=airy.drawImage(method='no_pixel')\n"
   ]
  },
  {
   "cell_type": "code",
   "execution_count": 3,
   "metadata": {},
   "outputs": [],
   "source": [
    "magArr = np.linspace(m_min,m_max,10000)\n",
    "mags = sm.draw_samples_specified_distribution(ngal, sm.mag_hist_power_law, magArr, 1)\n",
    "fluxes = sm.flux(mags, m0)\n",
    "#Plot histogram\n",
    "#a=plt.hist(mags, 30, color=\"k\", histtype=\"step\")"
   ]
  },
  {
   "cell_type": "code",
   "execution_count": 4,
   "metadata": {},
   "outputs": [],
   "source": [
    "distortion = np.random.rayleigh(epsilon0, size=ngal)\n",
    "#Place cut on distortion as they do in Hoekstra et al 2015\n",
    "while np.any(distortion>distortion_cutoff):\n",
    "    high_dist = np.where(distortion>distortion_cutoff)  \n",
    "    distortion[high_dist] = np.random.rayleigh(epsilon0, size=len(high_dist))\n",
    "shape_magnitude = distortion\n",
    "\n",
    "#Generate random numbers for intrinsic galaxy shapes\n",
    "#shape_params = np.random.random((ngal,2))\n",
    "phase = np.random.random(ngal)\n",
    "shape_params = np.stack((shape_magnitude, phase)).transpose()\n",
    "\n",
    "#Make catalog\n",
    "#Galaxy ID, Flux/magnitude, size, sersic n, intrinsic ellipticity\n",
    "galId = range(ngal)\n",
    "flux = fluxes\n",
    "size = [disk_re]*ngal\n",
    "sersic = [disk_n]*ngal\n",
    "shape1 = list(shape_params[:,0])\n",
    "shape2 = list(shape_params[:,1] * np.pi)\n",
    "\n",
    "input_cat = np.stack((galId,flux,size,sersic,shape1,shape2)).transpose()\n",
    "header = 'galId flux size sersic shape1 shape2 nrot'\n",
    "np.savetxt('../shear_bias_outputs/input_cat.txt',input_cat,delimiter=' ',header=header)"
   ]
  },
  {
   "cell_type": "code",
   "execution_count": 5,
   "metadata": {},
   "outputs": [],
   "source": [
    "#load catalog\n",
    "cat = np.loadtxt('../shear_bias_outputs/input_cat.txt', skiprows=1)\n",
    "flux = cat[:,1]\n",
    "disk_reArr, disk_nArr = cat[:,2],cat[:,3]\n",
    "magArr,phArr = cat[:,4],cat[:,5]\n",
    "\n",
    "#Generate galaxies\n",
    "galaxies = [galsim.Sersic(disk_n,half_light_radius=disk_re,gsparams=gsparams) for (disk_re,disk_n) in zip(disk_reArr,disk_nArr)]\n",
    "galaxies = [gal.withFlux(gal_flux) for gal,gal_flux in zip(galaxies,flux)]\n",
    "galaxies = [sm.intrinsic_shear(galaxy,shape_parameter_type,mag,ph) for galaxy,mag,ph in zip(galaxies,magArr,phArr)]\n",
    "\n",
    "#Generate rotated galaxies, add to galaxy list\n",
    "rotation_angle = [180./(nrot)*i for i in range(1,nrot)]\n",
    "rot_gals = [gal.rotate(angle*galsim.degrees) for angle in rotation_angle for gal in galaxies]\n",
    "galaxies += rot_gals\n",
    "\n",
    "#Shear Galaxies\n",
    "shearedGals = np.array([[gal.shear(g1=shear[0],g2=shear[1]) for gal in galaxies] for shear in shearList])\n"
   ]
  },
  {
   "cell_type": "code",
   "execution_count": 6,
   "metadata": {},
   "outputs": [
    {
     "name": "stdout",
     "output_type": "stream",
     "text": [
      "clock time:        1.1 \n",
      " cpu time:        1.1\n",
      "len(shearedGals) =  105\n",
      "Number of errors:  0\n"
     ]
    }
   ],
   "source": [
    "startC,startT = time.clock(), time.time()\n",
    "sim_params = [psf, image_psf, psf_sigma, pixel_scale, disk_reArr, nrot, ngal]\n",
    "obs, shape_err, error_message = sm.drawGalaxies(shearedGals, -1, True, sim_params)\n",
    "print 'clock time: %10.1f \\n cpu time: %10.1f' % (time.clock()-startC,time.time()-startT)\n",
    "print 'len(shearedGals) = ', shearedGals.size\n",
    "print 'Number of errors: ', np.sum(error_message != 0)\n"
   ]
  },
  {
   "cell_type": "code",
   "execution_count": 7,
   "metadata": {},
   "outputs": [
    {
     "name": "stdout",
     "output_type": "stream",
     "text": [
      "clock time:        0.0 \n",
      " cpu time:        0.0\n"
     ]
    }
   ],
   "source": [
    "weights = np.ones_like(obs)\n",
    "startC,startT = time.clock(), time.time()\n",
    "#Find weighted g1 and g2 from e1, e2\n",
    "meanShear= sm.findMeanShear(obs,weights)\n",
    "#Use bootstrap method to resample and derive an error on the shear values\n",
    "size = obs.shape[0]\n",
    "nBootstrap = int(size*np.log(size)**2)\n",
    "shearSamples = sm.bootstrapShear(obs,weights,nBootstrap)\n",
    "errShear = np.std(shearSamples,axis=0) / np.sqrt(nBootstrap)\n",
    "meanShearBootstrap = np.mean(shearSamples,axis=0)\n",
    "print 'clock time: %10.1f \\n cpu time: %10.1f' % (time.clock()-startC,time.time()-startT)\n",
    "\n",
    "#Combine mean and err into a single array\n",
    "res = np.stack((meanShear,errShear)).transpose(2,1,0)\n",
    "#res Shape: (measurements, shears, (mean, err))"
   ]
  },
  {
   "cell_type": "code",
   "execution_count": 8,
   "metadata": {},
   "outputs": [],
   "source": [
    "mSamples = sm.bootstrapM(shearSamples,shearList) #shape: numSamples, 2 (g1,g2), SNRs\n",
    "mStd = np.std(mSamples,axis=0) / np.sqrt(nBootstrap)\n",
    "mMeanBootstrap = np.mean(mSamples,axis=0)\n",
    "#mStd shape: ((g1,g2), SNRs)\n",
    "\n",
    "mMean = sm.getFitParameters(shearList,res)[:,0]"
   ]
  },
  {
   "cell_type": "code",
   "execution_count": 9,
   "metadata": {},
   "outputs": [],
   "source": [
    "orig_galim = gal.drawImage()\n",
    "gal_im = galsim.Convolve([gal,psf]).drawImage()"
   ]
  },
  {
   "cell_type": "code",
   "execution_count": 10,
   "metadata": {},
   "outputs": [],
   "source": [
    "galii = galsim.InterpolatedImage(gal_im)"
   ]
  },
  {
   "cell_type": "code",
   "execution_count": 11,
   "metadata": {},
   "outputs": [],
   "source": [
    "psfii = galsim.InterpolatedImage(image_psf)"
   ]
  },
  {
   "cell_type": "code",
   "execution_count": 12,
   "metadata": {},
   "outputs": [],
   "source": [
    "a=sm.cfGal(galii,psfii,shearList)[0].drawImage()"
   ]
  },
  {
   "cell_type": "code",
   "execution_count": null,
   "metadata": {},
   "outputs": [],
   "source": []
  }
 ],
 "metadata": {
  "kernelspec": {
   "display_name": "Python 2",
   "language": "python",
   "name": "python2"
  },
  "language_info": {
   "codemirror_mode": {
    "name": "ipython",
    "version": 2
   },
   "file_extension": ".py",
   "mimetype": "text/x-python",
   "name": "python",
   "nbconvert_exporter": "python",
   "pygments_lexer": "ipython2",
   "version": "2.7.15"
  }
 },
 "nbformat": 4,
 "nbformat_minor": 2
}
