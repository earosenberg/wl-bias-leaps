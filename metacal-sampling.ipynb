{
 "cells": [
  {
   "cell_type": "markdown",
   "metadata": {},
   "source": [
    "In this notebook we apply some of the methods and code of shape_measurement.ipynb to investigate the effect of pixelization and undersampling on metacalibration.\n",
    "Important papers:\n",
    "\n",
    "Huff & Mandelbaum https://arxiv.org/pdf/1702.02600.pdf\n",
    "\n",
    "Sheldon & Huff    https://arxiv.org/pdf/1702.02601.pdf"
   ]
  },
  {
   "cell_type": "code",
   "execution_count": null,
   "metadata": {},
   "outputs": [],
   "source": []
  }
 ],
 "metadata": {
  "kernelspec": {
   "display_name": "Python 2",
   "language": "python",
   "name": "python2"
  },
  "language_info": {
   "codemirror_mode": {
    "name": "ipython",
    "version": 2
   },
   "file_extension": ".py",
   "mimetype": "text/x-python",
   "name": "python",
   "nbconvert_exporter": "python",
   "pygments_lexer": "ipython2",
   "version": "2.7.15"
  }
 },
 "nbformat": 4,
 "nbformat_minor": 2
}
