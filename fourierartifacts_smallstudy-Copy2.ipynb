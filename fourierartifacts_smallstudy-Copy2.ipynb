{
 "cells": [
  {
   "cell_type": "code",
   "execution_count": 19,
   "metadata": {},
   "outputs": [],
   "source": [
    "#Import libraries\n",
    "import numpy as np\n",
    "from matplotlib import pyplot as plt\n",
    "%matplotlib inline\n",
    "import galsim\n",
    "import time\n",
    "#from galsim.gsparams import GSParams\n",
    "from matplotlib.colors import LogNorm\n",
    "import matplotlib.cm as cm\n",
    "import shape_measurement as sm\n",
    "\n",
    "import matplotlib\n",
    "matplotlib.rcParams['ps.useafm']=True\n",
    "matplotlib.rcParams['pdf.use14corefonts']=True\n",
    "matplotlib.rcParams['text.usetex']=True\n",
    "matplotlib.rc('font',size=14)"
   ]
  },
  {
   "cell_type": "code",
   "execution_count": 2,
   "metadata": {},
   "outputs": [],
   "source": [
    "def makeGalaxy(cc, gal_indices, chromatic=False, gsparams=None, trunc_factor=0.):\n",
    "    import scipy, scipy.special\n",
    "    galaxies = [ ]\n",
    "    sersicfit = cc.param_cat['sersicfit']\n",
    "    for gal_id in gal_indices:\n",
    "        gal_n = sersicfit[gal_id,2]\n",
    "        gal_q = sersicfit[gal_id,3]\n",
    "        gal_phi = sersicfit[gal_id,7]\n",
    "        gal_hlr = sersicfit[gal_id,1]*np.sqrt(gal_q)*0.03 ## in arcsec\n",
    "        b_n = 1.992*gal_n-0.3271\n",
    "        gal_flux = 2*np.pi*gal_n*scipy.special.gamma(2*gal_n)*np.exp(b_n)*gal_q*(sersicfit[gal_id,1]**2)*(sersicfit[gal_id,0])/(b_n**(2.*gal_n))\n",
    "        #print gal_n, gal_hlr, gal_flux, gal_q, gal_phi\n",
    "        gal = galsim.Sersic(n=gal_n,half_light_radius=gal_hlr, flux=gal_flux, trunc=trunc_factor*gal_hlr, gsparams=gsparams).shear(q=gal_q,beta=gal_phi*galsim.radians)\n",
    "        galaxies.append(gal)\n",
    "    return galaxies\n"
   ]
  },
  {
   "cell_type": "code",
   "execution_count": 3,
   "metadata": {},
   "outputs": [],
   "source": [
    "\n",
    "def rotGal(gal,intrinsicTheta, targetTheta):\n",
    "    '''Rotate galaxy so major axis is rotated targetTheta clockwise relative to x axis'''\n",
    "    if np.abs(targetTheta) > 2*np.pi:\n",
    "        print 'warning: targetTheta > 2pi -- recall that targetTheta should be given in radians'\n",
    "    angle = (targetTheta - intrinsicTheta)*galsim.radians\n",
    "    return gal.rotate(angle)\n",
    "rotGalVec = np.vectorize(rotGal)"
   ]
  },
  {
   "cell_type": "code",
   "execution_count": 4,
   "metadata": {},
   "outputs": [],
   "source": [
    "def measureShapeBasic(gal, epsf, psfIm, ss, *args):\n",
    "    '''gal: galsim object representing the galaxy profile\n",
    "       epsf: galsim object representing the effective psf profile (w/ pixel response)\n",
    "       psfIm: galsim Image of the epsf, *sampled at galaxy rate* (ss)\n",
    "       ss: float, sampling scale of the galaxy (pixel_scale/gal_oversample)\n",
    "       Convolves gal+epsf profiles, measures shape w/ regaussianization, returns corrected (e1, e2)'''\n",
    "    fin = galsim.Convolve(gal, epsf)\n",
    "    galIm = fin.drawImage(scale=ss, method='no_pixel')\n",
    "    #plt.imshow(galIm.array);plt.colorbar();x1,x2=45,75;plt.xlim(x1,x2);plt.ylim(x1,x2);plt.show()\n",
    "    warningMessage = 'Warning: Shape measurement likely wrong, pixel scales differ'\n",
    "    if galIm.scale != psfIm.scale: print warningMessage\n",
    "    shape = galsim.hsm.EstimateShear(galIm, psfIm, strict=False)\n",
    "    if shape.correction_status != 0: \n",
    "        return np.nan, np.nan\n",
    "    else:\n",
    "        return shape.corrected_e1, shape.corrected_e2\n",
    "    \n",
    "def measureShapeReconv(gal, epsf, psf_galsample, galscale, psfii, gsparams):\n",
    "    '''First four arguments correspond to those of measureShapeBasic\n",
    "       psfii: interpolated image of the oversampled psf\n",
    "       Convolve gal+epsf profiles, create interpolated image, de/reconvolve by psfii, measure shape\n",
    "       Returns corrected (e1, e2) of reconvolved image'''\n",
    "    fin = galsim.Convolve(gal, epsf)\n",
    "    given_im = fin.drawImage(scale=galscale, method='no_pixel')\n",
    "    gal_interp = galsim.InterpolatedImage(given_im, gsparams=gsparams)\n",
    "    inv_psf = galsim.Deconvolve(psfii)\n",
    "    dec = galsim.Convolve(gal_interp, inv_psf)\n",
    "    return measureShapeBasic(dec, psfii, psf_galsample, galscale)\n",
    "\n",
    "def galShiftErrs(gal, epsf, nx, ss, measureShape=measureShapeBasic, psfii=None, gsparams=galsim.GSParams(kvalue_accuracy=1.e-5,maximum_fft_size=2048*10,maxk_threshold=1.e-5)):\n",
    "    '''gal, epsf: galsim objects representing galaxy / effective psf profiles\n",
    "       nx: int, number of steps with which to shift galaxy eg nx=5 shifts by 0, 1/8=1/(2*(nx-1)), 2/8, 3/8, 4/8\n",
    "       ss: galaxy sampling rate; galaxies will be shifted up to (ss/2, ss/2) in each dimension\n",
    "       measureShape: function that takes gal, epsf, psfIm, ss, possibly more args, returns (e1, e2)\n",
    "       psfii: Optional interpolated image of psf, for measureShapeReconv\n",
    "       Return arrays of e1, e2 measured for each image of a galaxy shifted in an nx x nx grid between (0,0), (ss/2, ss/2)\n",
    "       inclusive. Psf is not shifted.'''\n",
    "    d1shifts = np.linspace(0,ss/2, nx)\n",
    "    aa, bb = np.meshgrid(d1shifts, d1shifts)\n",
    "    d2shifts = zip(aa.flatten(), bb.flatten())\n",
    "    psfIm = epsf.drawImage(scale=ss, method='no_pixel')\n",
    "\n",
    "    e1arr, e2arr = [],[]\n",
    "    for shift in d2shifts:\n",
    "        galshift = gal.shift(shift)\n",
    "        e1, e2 = measureShape(galshift, epsf, psfIm, ss, psfii, gsparams)\n",
    "        e1arr.append(e1); e2arr.append(e2)\n",
    "    #print 'Num failures: %d / %d' % (np.sum(np.isnan(e1arr)), len(e1arr))\n",
    "    return e1arr, e2arr\n",
    "    #return np.nanmean(e1arr), np.nanmean(e2arr), np.nanstd(e1arr), np.nanstd(e2arr)\n",
    "    \n",
    "galShiftErrsVec = np.vectorize(galShiftErrs,otypes=[object,object], excluded=set([1,2,3,'measureShape','psfii','gsparams']))\n",
    "    "
   ]
  },
  {
   "cell_type": "code",
   "execution_count": 5,
   "metadata": {},
   "outputs": [],
   "source": [
    "#gsparams=galsim.GSParams()\n",
    "gsparams = galsim.GSParams(kvalue_accuracy=1.e-5,maximum_fft_size=2048*10,maxk_threshold=1.e-5)\n",
    "#gsparams = galsim.GSParams(maximum_fft_size=2048*8)"
   ]
  },
  {
   "cell_type": "code",
   "execution_count": 70,
   "metadata": {},
   "outputs": [],
   "source": [
    "#Set parameters\n",
    "pixel_scale = 0.1 #as/px\n",
    "lamda = 800 #nm\n",
    "diameter = 1.2 #m\n",
    "psf_oversample = 5.\n",
    "gal_oversample = 2.\n",
    "# Make epsf, draw epsf image, interpolated image\n",
    "airy = galsim.Airy(lam=lamda, diam=diameter, scale_unit=galsim.arcsec, obscuration=0.3, gsparams=gsparams)\n",
    "pixel = galsim.Pixel(pixel_scale,gsparams=gsparams)\n",
    "psf = galsim.Convolve(airy, pixel)\n",
    "given_psf = psf.drawImage(scale=pixel_scale/psf_oversample,method='no_pixel') #Draw oversampled psf image\n",
    "psf_galsample = psf.drawImage(scale=pixel_scale/gal_oversample,method='no_pixel') #Draw at galaxy scale for shape measurement\n",
    "psfii = galsim.InterpolatedImage(given_psf, gsparams=gsparams)\n"
   ]
  },
  {
   "cell_type": "code",
   "execution_count": 71,
   "metadata": {},
   "outputs": [],
   "source": [
    "#Load galaxy catalog and select galaxies\n",
    "cc = galsim.COSMOSCatalog(dir='/disks/shear15/KiDS/ImSim/pipeline/data/COSMOS_25.2_training_sample/',use_real=False)\n",
    "sersicfit = cc.param_cat['sersicfit']\n",
    "hlr, sn, q, phi = [sersicfit[:,i] for i in (1,2,3,7)]\n",
    "\n",
    "small100I = np.where(np.logical_and(hlr*np.sqrt(q)>2.5, sn>=0.5))[0][400:405] #Large galaxies, reasonable sersic n\n",
    "gals = makeGalaxy(cc,small100I, chromatic=False, gsparams=gsparams,trunc_factor=0.0)\n",
    "\n",
    "intrinsicAngles = phi[small100I]\n",
    "thetas = np.radians(np.arange(0,46,5))\n",
    "rotGals = np.stack([rotGalVec(gals,intrinsicAngles,targetTheta) for targetTheta in thetas]) #(nrot, ngals)"
   ]
  },
  {
   "cell_type": "code",
   "execution_count": 72,
   "metadata": {},
   "outputs": [],
   "source": [
    "hlrcut, sncut, qcut = hlr[small100I], sn[small100I], q[small100I] #Not safe with bulges, but there are none at the moment"
   ]
  },
  {
   "cell_type": "code",
   "execution_count": 73,
   "metadata": {},
   "outputs": [],
   "source": [
    "def gete(q,b):\n",
    "    shear = galsim.shear.Shear(q=q, beta=b*galsim.radians)\n",
    "    return np.array([shear.e1, shear.e2])\n",
    "q0 = q[small100I]\n",
    "QQ, THTH = np.meshgrid(q0, thetas)\n",
    "shearVec = np.vectorize(gete, otypes=[object])\n",
    "trueShears = shearVec(QQ, THTH)\n",
    "trueShears = np.stack([np.stack(x) for x in trueShears]) #(nrot, ngals, (e1, e2))"
   ]
  },
  {
   "cell_type": "code",
   "execution_count": 74,
   "metadata": {},
   "outputs": [],
   "source": [
    "sh=trueShears.shape\n",
    "trueShearsExt = trueShears.reshape((sh[0],sh[1],1,sh[2]))\n",
    "trueShearsExt = np.repeat(trueShearsExt,2,axis=2)"
   ]
  },
  {
   "cell_type": "code",
   "execution_count": 75,
   "metadata": {},
   "outputs": [
    {
     "name": "stdout",
     "output_type": "stream",
     "text": [
      "(10, 5)\n"
     ]
    }
   ],
   "source": [
    "print rotGals.shape"
   ]
  },
  {
   "cell_type": "code",
   "execution_count": 76,
   "metadata": {},
   "outputs": [],
   "source": [
    "nx = 5\n",
    "ss = pixel_scale / gal_oversample\n",
    "\n",
    "reconv = galShiftErrsVec(rotGals, psf, nx, ss, measureShapeReconv, psfii, gsparams)\n",
    "orig= galShiftErrsVec(rotGals,psf,nx,ss)\n",
    "\n",
    "reconv = np.stack([np.stack([np.stack(x) for x in a]) for a in reconv]).transpose(1,2,0,3) #nrot, ngal, (e1, e2), movedCenter (nx x nx)\n",
    "orig = np.stack([np.stack([np.stack(x) for x in a]) for a in orig]).transpose(1,2,0,3)"
   ]
  },
  {
   "cell_type": "code",
   "execution_count": 77,
   "metadata": {},
   "outputs": [
    {
     "name": "stdout",
     "output_type": "stream",
     "text": [
      "(3, 2, 5, 10)\n"
     ]
    }
   ],
   "source": [
    "origMean, origStd = np.nanmean(orig,axis=-1), np.nanstd(orig,axis=-1)\n",
    "reconvMean, reconvStd = np.nanmean(reconv, axis=-1), np.nanstd(reconv, axis=-1)\n",
    "recOrigDiff = reconv - orig\n",
    "recOrigDiffMean, recOrigDiffStd = np.nanmean(recOrigDiff, axis=-1), np.nanstd(recOrigDiff, axis=-1)\n",
    "\n",
    "\n",
    "diffShapes = np.stack([origMean - trueShears, reconvMean - trueShears, recOrigDiffMean]).transpose(0,3,2,1)\n",
    "diffShapesErr = np.stack([origStd, reconvStd, recOrigDiffStd]).transpose(0,3,2,1)\n",
    "print diffShapes.shape"
   ]
  },
  {
   "cell_type": "code",
   "execution_count": 79,
   "metadata": {},
   "outputs": [
    {
     "data": {
      "image/png": "[encoded data removed]",
      "text/plain": [
       "<matplotlib.figure.Figure at 0x7ff74f3e6990>"
      ]
     },
     "metadata": {},
     "output_type": "display_data"
    }
   ],
   "source": [
    "order = np.argsort(hlrcut*np.sqrt(qcut))[::-1] #Descending order of circularized hlr\n",
    "labels=['%s; %s' % (snl,hlrc) for (snl,hlrc) in zip(np.round(sncut,2)[order], np.round(hlrcut*qcut,2)[order])]\n",
    "markers=['o','^','v','s','D']\n",
    "orderedDiffShapes = diffShapes[:,:,order,:]\n",
    "orderedDiffShapeErrs = diffShapesErr[:,:,order,:]\n",
    "fig,ax = plt.subplots(3,2,figsize = (8,12),sharex = True)\n",
    "names = np.array([['$e_1orig - e_1true$','$e_1rec - e_1true$', '$e_1rec - e_1orig$'],\\\n",
    "                  ['$e_2orig - e_2true$','$e_2rec - e_2true$', '$e_2rec - e_2orig$']]).transpose()\n",
    "for i in range(3): # orig-true; rec-true; rec-orig\n",
    "    for j in range(2): #e1, e2\n",
    "        sp = orderedDiffShapes[i,j]\n",
    "        for galnum,spp in enumerate(sp): #galaxies\n",
    "            name=names[i,j]\n",
    "            subax=ax[i,j]\n",
    "            subax.errorbar(np.degrees(thetas), spp, yerr=orderedDiffShapeErrs[i,j,galnum], \\\n",
    "                           fmt='.',label=labels[galnum],marker=markers[galnum],markersize=5)#label='Gal %d'%(galnum))\n",
    "            subax.axhline(0.0,c='k',linestyle=':')\n",
    "            if i==2: subax.set_xlabel('Rotation Angle (deg)')\n",
    "            subax.set_ylabel(name)\n",
    "            #subax.legend()\n",
    "ax[0,0].legend(title='n; HLR*sqrt(q) (as)',fontsize=7)\n",
    "for i in range(3):\n",
    "    ax[i,1].get_shared_y_axes().join(ax[i,1], ax[i,0])\n",
    "    ax[i,1].set_yticklabels([])\n",
    "\n",
    "ax[0,0].get_shared_y_axes().join(ax[1,0],ax[0,0])\n",
    "\n",
    "def matchylim(axList):\n",
    "    ylList = ([sa.get_ylim()[0] for sa in axList], [sa.get_ylim()[1] for sa in axList])\n",
    "    yl = (min(ylList[0]), max(ylList[1]))\n",
    "    return yl\n",
    "yl1 = matchylim(ax[0:2,0:2].flatten())\n",
    "for sa in ax[0:2,0:2].flatten(): sa.set_ylim(yl1)\n",
    "yl2 = matchylim(ax[2,:])\n",
    "for sa in ax[2,:]: sa.set_ylim(yl2)\n",
    "\n",
    "#ax[2,0].set_ylim(-0.004,0.0002)\n",
    "plt.tight_layout()\n",
    "\n",
    "#plt.savefig('/home/rosenberg/Documents/wl-bias-leaps-top/shear_bias_outputs/reconvolve_bias_rotation_errs_800nm_galos2.pdf')"
   ]
  },
  {
   "cell_type": "code",
   "execution_count": 46,
   "metadata": {},
   "outputs": [
    {
     "data": {
      "text/plain": [
       "(-0.03364430977188845, 0.0016075517719794583)"
      ]
     },
     "execution_count": 46,
     "metadata": {},
     "output_type": "execute_result"
    }
   ],
   "source": [
    "ax[0,0].get_ylim()"
   ]
  },
  {
   "cell_type": "code",
   "execution_count": 17,
   "metadata": {},
   "outputs": [
    {
     "name": "stdout",
     "output_type": "stream",
     "text": [
      "hlr (px), q, sersic n\n",
      "[[13.71  0.66  0.9 ]\n",
      " [ 6.78  0.76  1.31]\n",
      " [ 8.9   0.4   0.9 ]\n",
      " [ 6.21  0.45  1.5 ]\n",
      " [ 6.32  0.38  1.8 ]]\n"
     ]
    }
   ],
   "source": [
    "galparams = np.round(np.stack([hlrcut, qcut, sncut]).transpose(), 2)[order]\n",
    "print 'hlr (px), q, sersic n'\n",
    "print galparams\n",
    "#gal_hlr = sersicfit[gal_id,1]*np.sqrt(gal_q)*0.03 ## in arcsec\n"
   ]
  }
 ],
 "metadata": {
  "kernelspec": {
   "display_name": "Python 2",
   "language": "python",
   "name": "python2"
  },
  "language_info": {
   "codemirror_mode": {
    "name": "ipython",
    "version": 2
   },
   "file_extension": ".py",
   "mimetype": "text/x-python",
   "name": "python",
   "nbconvert_exporter": "python",
   "pygments_lexer": "ipython2",
   "version": "2.7.5"
  }
 },
 "nbformat": 4,
 "nbformat_minor": 2
}
