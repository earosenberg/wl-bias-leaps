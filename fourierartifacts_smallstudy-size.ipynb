{
 "cells": [
  {
   "cell_type": "code",
   "execution_count": 1,
   "metadata": {},
   "outputs": [],
   "source": [
    "#Import libraries\n",
    "import numpy as np\n",
    "from matplotlib import pyplot as plt\n",
    "%matplotlib inline\n",
    "import galsim\n",
    "import time\n",
    "from galsim.gsparams import GSParams\n",
    "from matplotlib.colors import LogNorm\n",
    "import matplotlib.cm as cm\n",
    "import shape_measurement as sm"
   ]
  },
  {
   "cell_type": "code",
   "execution_count": null,
   "metadata": {},
   "outputs": [],
   "source": []
  },
  {
   "cell_type": "code",
   "execution_count": 2,
   "metadata": {},
   "outputs": [],
   "source": [
    "#gsparams=galsim.GSParams()\n",
    "gsparams = galsim.GSParams(kvalue_accuracy=1.e-8,maximum_fft_size=2048*8,maxk_threshold=1.e-6)\n",
    "#gsparams = galsim.GSParams(maximum_fft_size=2048*8)"
   ]
  },
  {
   "cell_type": "code",
   "execution_count": 3,
   "metadata": {},
   "outputs": [],
   "source": [
    "def makeGaussian(im, flux=1., gsparams=None):\n",
    "    im_mom = galsim.hsm.FindAdaptiveMom(im,strict=False)\n",
    "    if im_mom.moments_status != 0:\n",
    "        #print im_mom.correction_status\n",
    "        return False, False, False\n",
    "    else:\n",
    "        im_mom_sigma, im_mom_shear = im_mom.moments_sigma*im.scale, im_mom.observed_shape\n",
    "        im_gaussian = galsim.Gaussian(sigma=im_mom_sigma, flux=flux, gsparams=gsparams)\n",
    "        #im_gaussian = im_gaussian.shear(g1=im_mom_shear.g1,g2=im_mom_shear.g2)\n",
    "        return im_gaussian, im_mom_sigma, im_mom_shear\n"
   ]
  },
  {
   "cell_type": "code",
   "execution_count": 4,
   "metadata": {},
   "outputs": [],
   "source": [
    "pixel_scale = 0.1 #as/px\n",
    "lamda = 550 #nm\n",
    "diameter = 1.2 #m\n",
    "airy = galsim.Airy(lam=lamda, diam=diameter, scale_unit=galsim.arcsec, obscuration=0.3, gsparams=gsparams)\n",
    "pixel = galsim.Pixel(pixel_scale,gsparams=gsparams)\n",
    "psf = galsim.Convolve(airy, pixel)\n",
    "\n",
    "#image_psf = psf.drawImage(scale=pixel_scale/20.,method='no_pixel') #Fit a Gaussian\n",
    "#psf_gaussian = makeGaussian(image_psf,gsparams=gsparams)[0]\n",
    "psf_gaussian = psf #Now a misnomer, make it Airy\n",
    "\n",
    "given_psf = psf_gaussian.drawImage(scale=pixel_scale/10.,method='no_pixel') #Draw oversampled psf image\n",
    "\n",
    "#gauss_psfii = psf_gaussian\n",
    "gauss_psfii = galsim.InterpolatedImage(given_psf, gsparams=gsparams)\n"
   ]
  },
  {
   "cell_type": "code",
   "execution_count": 5,
   "metadata": {},
   "outputs": [
    {
     "name": "stdout",
     "output_type": "stream",
     "text": [
      "(1098, 1098)\n"
     ]
    },
    {
     "data": {
      "image/png": "[encoded data removed]",
      "text/plain": [
       "<matplotlib.figure.Figure at 0x7f44870378d0>"
      ]
     },
     "metadata": {},
     "output_type": "display_data"
    }
   ],
   "source": [
    "fig,ax=plt.subplots(1,2)\n",
    "stamp=galsim.ImageF(60,60)\n",
    "new_image_psf = psf.drawImage(scale=pixel_scale/10.,method='no_pixel',image=stamp)\n",
    "vmin,vmax=np.min(new_image_psf.array),np.max(new_image_psf.array)\n",
    "f1=ax[0].imshow(new_image_psf.array,norm=LogNorm(),vmin=vmin,vmax=vmax)\n",
    "f2=ax[1].imshow(given_psf.array,norm=LogNorm(),vmin=vmin,vmax=vmax)\n",
    "fig.colorbar(f1,ax=ax[0])\n",
    "fig.colorbar(f2,ax=ax[1])\n",
    "print given_psf.array.shape"
   ]
  },
  {
   "cell_type": "code",
   "execution_count": 78,
   "metadata": {},
   "outputs": [],
   "source": [
    "#Load galaxy catalog and select galaxies\n",
    "cc = galsim.COSMOSCatalog(dir='/disks/shear15/KiDS/ImSim/pipeline/data/COSMOS_25.2_training_sample/',use_real=False)\n",
    "hlr, sn, q = [np.array([pc[4][i] for pc in cc.param_cat]) for i in range(1,4)]\n",
    "\n",
    "small100I = np.where(np.logical_and(hlr*np.sqrt(q)>2.5, sn>=0.5))[0][0:1] #Large galaxies, reasonable sersic n\n",
    "gal = cc.makeGalaxy(small100I, chromatic=False, gsparams=gsparams)[0]"
   ]
  },
  {
   "cell_type": "code",
   "execution_count": 79,
   "metadata": {},
   "outputs": [
    {
     "name": "stdout",
     "output_type": "stream",
     "text": [
      "-9.073273e-11\n"
     ]
    },
    {
     "data": {
      "image/png": "[encoded data removed]",
      "text/plain": [
       "<matplotlib.figure.Figure at 0x7f445bd0a190>"
      ]
     },
     "metadata": {},
     "output_type": "display_data"
    }
   ],
   "source": [
    "plt.imshow(gal.drawImage(scale=pixel_scale).array,norm=LogNorm())\n",
    "plt.colorbar()\n",
    "print np.min(gal.drawImage().array)"
   ]
  },
  {
   "cell_type": "code",
   "execution_count": 80,
   "metadata": {},
   "outputs": [
    {
     "name": "stdout",
     "output_type": "stream",
     "text": [
      "galsim.Sersic(n=1.0, half_light_radius=0.108705859505, flux=2.16024879771).shear(galsim.Shear(g1=0.05493919119883436,g2=0.46971950650886507))\n"
     ]
    }
   ],
   "source": [
    "# gal = galsim.Sersic(n=0.9,scale_radius = 0.2899613, flux=7.4369873,gsparams=gsparams)\n",
    "# gal=gal.transform(0.8222,0.260355,0.260355,1.29868)\n",
    "print gal\n",
    "orig_gal = gal"
   ]
  },
  {
   "cell_type": "code",
   "execution_count": null,
   "metadata": {},
   "outputs": [],
   "source": []
  },
  {
   "cell_type": "code",
   "execution_count": 82,
   "metadata": {},
   "outputs": [
    {
     "name": "stdout",
     "output_type": "stream",
     "text": [
      "[ 0.1         0.21544347  0.46415888  1.          2.15443469  4.64158883\n",
      " 10.         21.5443469  46.41588834]\n",
      "0.1\n",
      "0.21544346900318834\n",
      "0.46415888336127786\n",
      "1.0\n",
      "2.1544346900318834\n",
      "4.6415888336127775\n",
      "10.0\n",
      "21.54434690031882\n",
      "46.41588833612777\n"
     ]
    }
   ],
   "source": [
    "sizes = np.logspace(-1,2,10)[:-1]\n",
    "errs = []\n",
    "print sizes\n",
    "for size in sizes:\n",
    "    print size\n",
    "    gal = orig_gal.expand(size)\n",
    "    fin = galsim.Convolve([gal,psf_gaussian])\n",
    "    given_im = fin.drawImage(scale=pixel_scale, method='no_pixel')\n",
    "\n",
    "    #gal_interp = fin\n",
    "    gal_interp = galsim.InterpolatedImage(given_im,gsparams=gsparams)\n",
    "\n",
    "    inv_gauss = galsim.Deconvolve(gauss_psfii)\n",
    "    dec = galsim.Convolve(gal_interp,inv_gauss)\n",
    "    rec = galsim.Convolve(dec, gauss_psfii)\n",
    "\n",
    "    recIm = rec.drawImage(scale=pixel_scale,method='no_pixel')\n",
    "\n",
    "    decIm = dec.drawImage(scale=pixel_scale)\n",
    "    ss=decIm.array.shape[0]\n",
    "    stamp=galsim.ImageF(ss,ss)\n",
    "    # plt.imshow(decIm.array - gal.drawImage(image=stamp,scale=pixel_scale).array)\n",
    "    # plt.colorbar()\n",
    "\n",
    "    #fig,ax=plt.subplots(1,2)\n",
    "    recsize = recIm.array.shape[0]\n",
    "    origIm = galsim.ImageF(recsize,recsize)\n",
    "    origIm = fin.drawImage(image=origIm,scale=pixel_scale,method='no_pixel')\n",
    "    # f1=ax[0].imshow(origIm.array,norm=LogNorm(),vmin=1e-6)\n",
    "    # f2=ax[1].imshow(recIm.array,norm=LogNorm(),vmin=1e-6)\n",
    "\n",
    "    # fig.colorbar(f1,ax=ax[0])\n",
    "    # fig.colorbar(f2,ax=ax[1])\n",
    "\n",
    "    # plt.imshow(origIm.array / recIm.array - 1,vmin=-2e-3,vmax=2e-3,cmap=cm.bwr)\n",
    "    # plt.colorbar()\n",
    "\n",
    "    # plt.imshow((origIm.array - recIm.array)*1e7,vmin=-2,vmax=2,cmap=cm.bwr)\n",
    "    # plt.colorbar()\n",
    "\n",
    "    #print np.max(np.abs(origIm.array - recIm.array))\n",
    "\n",
    "    orig_shape=galsim.hsm.FindAdaptiveMom(origIm).observed_shape\n",
    "    #print orig_shape.e1, orig_shape.e2\n",
    "\n",
    "    rec_shape=galsim.hsm.FindAdaptiveMom(recIm).observed_shape\n",
    "    #print rec_shape.e1, rec_shape.e2\n",
    "\n",
    "    e1err,e2err= 1-rec_shape.e1/orig_shape.e1, 1-rec_shape.e2/orig_shape.e2\n",
    "    errs.append((e1err,e2err))\n"
   ]
  },
  {
   "cell_type": "code",
   "execution_count": 83,
   "metadata": {},
   "outputs": [
    {
     "name": "stdout",
     "output_type": "stream",
     "text": [
      "[(-0.09434865140334381, 0.20105721693317036), (0.01786996394535345, 0.19517926315195233), (0.03244853837343886, 0.11584877157597162), (0.03699482272041266, 0.0194814213260448), (0.004029721979458167, 0.0014547724628560799), (0.00013628483878991293, 4.659936839557233e-05), (2.5374809191625047e-06, 7.914344003490115e-07), (8.367015436050451e-08, 0.0), (-2.4985668645172154e-07, -2.220446049250313e-16)]\n"
     ]
    }
   ],
   "source": [
    "print errs"
   ]
  },
  {
   "cell_type": "code",
   "execution_count": 84,
   "metadata": {},
   "outputs": [],
   "source": [
    "e1errs = np.abs(np.array([err[0] for err in errs]))\n",
    "e2errs = np.abs(np.array([err[1] for err in errs]))"
   ]
  },
  {
   "cell_type": "code",
   "execution_count": 85,
   "metadata": {},
   "outputs": [
    {
     "name": "stdout",
     "output_type": "stream",
     "text": [
      "[ 0.1         0.21544347  0.46415888  1.          2.15443469  4.64158883\n",
      " 10.         21.5443469  46.41588834]\n"
     ]
    }
   ],
   "source": [
    "print sizes"
   ]
  },
  {
   "cell_type": "code",
   "execution_count": 93,
   "metadata": {},
   "outputs": [
    {
     "data": {
      "image/png": "[encoded data removed]",
      "text/plain": [
       "<matplotlib.figure.Figure at 0x7f445b032490>"
      ]
     },
     "metadata": {},
     "output_type": "display_data"
    }
   ],
   "source": [
    "hlr = 0.109\n",
    "newsizes = sizes * hlr\n",
    "fig,ax=plt.subplots()\n",
    "plt.plot(newsizes,e1errs,'bo',label='e1')\n",
    "plt.plot(newsizes,e2errs,'go',label='e2')\n",
    "ax.set_yscale('log')\n",
    "ax.set_xscale('log')\n",
    "plt.xlabel('Galaxy Half Light Radius (as)')\n",
    "plt.ylabel('Shear error (abs($e_{reconvolve}/e_{orig}-1$))')\n",
    "plt.legend()\n",
    "plt.ylim(1e-8)\n",
    "plt.axvline(hlr,c='k',linestyle=':')\n",
    "plt.tight_layout()\n",
    "plt.savefig('/home/rosenberg/Documents/wl-bias-leaps-top/shear_bias_outputs/shearerror_vs_galsize.png')"
   ]
  },
  {
   "cell_type": "code",
   "execution_count": 48,
   "metadata": {},
   "outputs": [
    {
     "data": {
      "text/plain": [
       "array([2.01057497e-01, 1.91825878e-01, 8.25966438e-02, 8.07883775e-03,\n",
       "       2.89680310e-04, 3.82690098e-06, 7.84381521e-08, 7.79602420e-08])"
      ]
     },
     "execution_count": 48,
     "metadata": {},
     "output_type": "execute_result"
    }
   ],
   "source": [
    "e2errs"
   ]
  },
  {
   "cell_type": "code",
   "execution_count": null,
   "metadata": {},
   "outputs": [],
   "source": []
  }
 ],
 "metadata": {
  "kernelspec": {
   "display_name": "Python 2",
   "language": "python",
   "name": "python2"
  },
  "language_info": {
   "codemirror_mode": {
    "name": "ipython",
    "version": 2
   },
   "file_extension": ".py",
   "mimetype": "text/x-python",
   "name": "python",
   "nbconvert_exporter": "python",
   "pygments_lexer": "ipython2",
   "version": "2.7.15"
  }
 },
 "nbformat": 4,
 "nbformat_minor": 2
}
